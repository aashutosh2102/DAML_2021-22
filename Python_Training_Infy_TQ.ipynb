{
 "cells": [
  {
   "cell_type": "markdown",
   "id": "c9466ae8",
   "metadata": {},
   "source": [
    "### OOPS Concepts\n",
    "- \"Object Oriented was coined by Alan KAy\"\n",
    "- \"Simula, Smalltalk, C++, Java, Python are Object oriented Programming\"\n",
    "#### Need of oops\n",
    "- To get more memory efficent\n",
    "- No need to code in procedural way (divided in different functions or module) a.k.a reusability\n",
    "- Efficient Error identification\n",
    "- Better Organization of Data and Methods"
   ]
  },
  {
   "cell_type": "markdown",
   "id": "74b94943",
   "metadata": {},
   "source": [
    "### Object and Classes\n",
    "- Classes are used for template or blueprint representation\n",
    "- For e.g. Car(class) and different car brands are objects of the class Car.\n",
    "- Class is a logical entity and Object is a real world entity\n",
    "### Objects and instance\n",
    "- Object with different entities are termed as instances of different details or identities."
   ]
  },
  {
   "cell_type": "markdown",
   "id": "8fbce985",
   "metadata": {},
   "source": [
    "## Define a Class"
   ]
  },
  {
   "cell_type": "code",
   "execution_count": 2,
   "id": "4d10d6be",
   "metadata": {},
   "outputs": [
    {
     "data": {
      "text/plain": [
       "__main__.car"
      ]
     },
     "execution_count": 2,
     "metadata": {},
     "output_type": "execute_result"
    }
   ],
   "source": [
    "#initiate with class keyword\n",
    "class car:\n",
    "    pass\n",
    "\n",
    "obj = car()\n",
    "type(obj)"
   ]
  },
  {
   "cell_type": "code",
   "execution_count": 3,
   "id": "906e31bf",
   "metadata": {},
   "outputs": [
    {
     "name": "stdout",
     "output_type": "stream",
     "text": [
      "Enter Car name : ccar\n",
      "Enter varr name : caar\n"
     ]
    }
   ],
   "source": [
    "class car:\n",
    "    var = input(\"Enter Car name : \")\n",
    "\n",
    "class driver:\n",
    "    varr= input(\"Enter varr name : \")\n",
    "    \n",
    "c1 = car()\n",
    "d1 = driver()"
   ]
  },
  {
   "cell_type": "code",
   "execution_count": 4,
   "id": "85881b85",
   "metadata": {},
   "outputs": [
    {
     "name": "stdout",
     "output_type": "stream",
     "text": [
      "Enter Car name : BMW\n",
      "Enter Driver name : AKA\n",
      "Enter Car name : SKODA\n",
      "Enter Driver name : UHJ\n",
      "Enter Car name : TATA\n",
      "Enter Driver name : TATA\n",
      "AKA drives BMW car\n",
      "UHJ drives SKODA car\n",
      "TATA drives TATA car\n"
     ]
    }
   ],
   "source": [
    "class car:\n",
    "    def __init__(self):\n",
    "        self.name = input(\"Enter Car name : \")\n",
    "\n",
    "class driver:\n",
    "    def __init__(self):\n",
    "        self.name = input(\"Enter Driver name : \")\n",
    "        \n",
    "c1 = car()\n",
    "d1 = driver()\n",
    "\n",
    "c2 = car()\n",
    "d2 = driver()\n",
    "\n",
    "c3 = car()\n",
    "d3 = driver()\n",
    "\n",
    "print(d1.name, \"drives\", c1.name, \"car\")\n",
    "print(d2.name, \"drives\", c2.name, \"car\")\n",
    "print(d3.name, \"drives\", c3.name, \"car\")"
   ]
  },
  {
   "cell_type": "markdown",
   "id": "9df8ab3c",
   "metadata": {},
   "source": [
    "### Self and __init__\n",
    "- we can use self as variable within the method but not in a __init__ method"
   ]
  },
  {
   "cell_type": "code",
   "execution_count": 13,
   "id": "7e8d5d37",
   "metadata": {},
   "outputs": [
    {
     "name": "stdout",
     "output_type": "stream",
     "text": [
      "<__main__.car object at 0x000001DB139348B0> 3\n"
     ]
    },
    {
     "ename": "AttributeError",
     "evalue": "'car' object has no attribute 'v1'",
     "output_type": "error",
     "traceback": [
      "\u001b[1;31m---------------------------------------------------------------------------\u001b[0m",
      "\u001b[1;31mAttributeError\u001b[0m                            Traceback (most recent call last)",
      "\u001b[1;32m~\\AppData\\Local\\Temp/ipykernel_66080/638182493.py\u001b[0m in \u001b[0;36m<module>\u001b[1;34m\u001b[0m\n\u001b[0;32m      8\u001b[0m \u001b[0mcar3\u001b[0m\u001b[1;33m=\u001b[0m\u001b[0mcar\u001b[0m\u001b[1;33m(\u001b[0m\u001b[1;33m)\u001b[0m\u001b[1;33m\u001b[0m\u001b[1;33m\u001b[0m\u001b[0m\n\u001b[0;32m      9\u001b[0m \u001b[0mcar3\u001b[0m\u001b[1;33m.\u001b[0m\u001b[0mnew1\u001b[0m\u001b[1;33m(\u001b[0m\u001b[1;36m3\u001b[0m\u001b[1;33m)\u001b[0m\u001b[1;33m\u001b[0m\u001b[1;33m\u001b[0m\u001b[0m\n\u001b[1;32m---> 10\u001b[1;33m \u001b[0mcar3\u001b[0m\u001b[1;33m.\u001b[0m\u001b[0mv1\u001b[0m\u001b[1;33m(\u001b[0m\u001b[1;36m3\u001b[0m\u001b[1;33m)\u001b[0m\u001b[1;33m\u001b[0m\u001b[1;33m\u001b[0m\u001b[0m\n\u001b[0m",
      "\u001b[1;31mAttributeError\u001b[0m: 'car' object has no attribute 'v1'"
     ]
    }
   ],
   "source": [
    "class car:\n",
    "    def new1(self, v1):\n",
    "#         self = 4\n",
    "        print(self, v1)\n",
    "        \n",
    "car1=car()\n",
    "car2=car()\n",
    "car3=car()\n",
    "car3.new1(3)\n",
    "car3.v1(3)"
   ]
  },
  {
   "cell_type": "code",
   "execution_count": 17,
   "id": "f3250ab7",
   "metadata": {},
   "outputs": [
    {
     "name": "stdout",
     "output_type": "stream",
     "text": [
      "hello ji\n"
     ]
    }
   ],
   "source": [
    "class A:\n",
    "    print(\"hello ji\")\n",
    "A()\n",
    "A()\n",
    "obj = A()\n",
    "# 3 objects and 1 reference"
   ]
  },
  {
   "cell_type": "code",
   "execution_count": 22,
   "id": "c97a7975",
   "metadata": {},
   "outputs": [
    {
     "name": "stdout",
     "output_type": "stream",
     "text": [
      "1\n",
      "20\n"
     ]
    }
   ],
   "source": [
    "class Student:\n",
    "    def __init__(self, id, age):\n",
    "        self.id = id\n",
    "        self.age = age\n",
    "std = Student(1, 20)\n",
    "print(std.id)\n",
    "print(std.age)\n",
    "# Every class must have a constructor is False."
   ]
  },
  {
   "cell_type": "code",
   "execution_count": 34,
   "id": "2c57e300",
   "metadata": {},
   "outputs": [
    {
     "name": "stdout",
     "output_type": "stream",
     "text": [
      "Python\n"
     ]
    }
   ],
   "source": [
    "class test:\n",
    "    def __init__(self, a=\"hello world\"): #default argument\n",
    "        self.a = a\n",
    "        \n",
    "    def display(self):\n",
    "        print(self.a)\n",
    "obj=test(\"Python\") # override the default value\n",
    "obj.display()"
   ]
  },
  {
   "cell_type": "code",
   "execution_count": 31,
   "id": "2f97d6d1",
   "metadata": {},
   "outputs": [
    {
     "name": "stdout",
     "output_type": "stream",
     "text": [
      "7\n"
     ]
    }
   ],
   "source": [
    "class change:\n",
    "    def __init__(self, x, y, z):\n",
    "        self.a = x + y + z\n",
    "        \n",
    "x = change(1,2,3)\n",
    "y=getattr(x, \"a\") # it's used to access the instance variable\n",
    "setattr(x , 'a', y+1) # 6+1 = 7\n",
    "print(x.a)"
   ]
  },
  {
   "cell_type": "code",
   "execution_count": 37,
   "id": "90f5633a",
   "metadata": {},
   "outputs": [],
   "source": [
    "class A:\n",
    "    def __init__(self, b):\n",
    "        self.b = b\n",
    "    def display(self):\n",
    "        print(display.self)\n",
    "obj = A(11)\n",
    "del obj"
   ]
  },
  {
   "cell_type": "code",
   "execution_count": 39,
   "id": "f85d9fb6",
   "metadata": {},
   "outputs": [
    {
     "name": "stdout",
     "output_type": "stream",
     "text": [
      "1\n",
      "2\n"
     ]
    }
   ],
   "source": [
    "class Student:\n",
    "    def __init__(self, name, id):\n",
    "        self.name = name\n",
    "        self.id = id\n",
    "        print(self.id)\n",
    "\n",
    "s1 = Student(\"Name\", 1)\n",
    "s1.id = 2\n",
    "print(s1.id)"
   ]
  },
  {
   "cell_type": "code",
   "execution_count": 45,
   "id": "6dde3d7c",
   "metadata": {},
   "outputs": [
    {
     "name": "stdout",
     "output_type": "stream",
     "text": [
      "6\n"
     ]
    }
   ],
   "source": [
    "class A:\n",
    "    def __init__(self,count):\n",
    "        self.count = 5\n",
    "#         self.count = self.count+1\n",
    "        self.count = count+1\n",
    "# a = A()\n",
    "a = A(5)\n",
    "print(a.count)\n",
    "# print(self.count)"
   ]
  },
  {
   "cell_type": "code",
   "execution_count": 47,
   "id": "d00eac02",
   "metadata": {},
   "outputs": [
    {
     "name": "stdout",
     "output_type": "stream",
     "text": [
      "6\n"
     ]
    }
   ],
   "source": [
    "class A:\n",
    "    def __init__(self):\n",
    "        self.count = 5\n",
    "        self.count = self.count+1\n",
    "a = A()\n",
    "print(a.count)\n",
    "# print(self.count)"
   ]
  },
  {
   "cell_type": "code",
   "execution_count": 62,
   "id": "9f685fa8",
   "metadata": {},
   "outputs": [
    {
     "name": "stdout",
     "output_type": "stream",
     "text": [
      "<__main__.Circle object at 0x000002D8BAFE8100>\n"
     ]
    }
   ],
   "source": [
    "from abc import *\n",
    "class Shape(metaclass = ABCMeta):\n",
    "    def __int__(self):\n",
    "        print(\"I am in init\")\n",
    "    def draw_shape(self):\n",
    "        pass\n",
    "    def set_color(self):\n",
    "        pass\n",
    "\n",
    "class Circle(Shape):\n",
    "    def draw_shape(self):\n",
    "        print(\"Draw Circle\")\n",
    "\n",
    "cl = Circle()\n",
    "print(cl)"
   ]
  },
  {
   "cell_type": "code",
   "execution_count": 63,
   "id": "ec1440e8",
   "metadata": {},
   "outputs": [
    {
     "name": "stdout",
     "output_type": "stream",
     "text": [
      "16\n",
      "9\n"
     ]
    }
   ],
   "source": [
    "# method overriding\n",
    "class A:\n",
    "    def __init__(self):\n",
    "        self.multiply(8)\n",
    "        print(self.i)\n",
    "    def multiply(self, i):\n",
    "        self.i = 2*i\n",
    "\n",
    "class B(A):\n",
    "    def __init__(self):\n",
    "        super().__init__()\n",
    "        \n",
    "    def _multiply(self, i):\n",
    "        self.i = 3 * i\n",
    "        print(self.i)\n",
    "        \n",
    "obj = B()\n",
    "obj._multiply(3)"
   ]
  },
  {
   "cell_type": "code",
   "execution_count": 22,
   "id": "fdcba2f4",
   "metadata": {},
   "outputs": [
    {
     "name": "stdout",
     "output_type": "stream",
     "text": [
      "21\n"
     ]
    }
   ],
   "source": [
    "class Student:\n",
    "    def __init__(self):\n",
    "        self.age = 1\n",
    "        self.__cop = 1 # private access modiefier \n",
    "    def _get(self):\n",
    "        return self.__cop\n",
    "    \n",
    "obj = Student()\n",
    "obj.age=21\n",
    "print(obj.age)"
   ]
  },
  {
   "cell_type": "markdown",
   "id": "80a5b917",
   "metadata": {},
   "source": [
    "- https://www.geeksforgeeks.org/access-modifiers-in-python-public-private-and-protected/"
   ]
  },
  {
   "cell_type": "code",
   "execution_count": 7,
   "id": "c910df10",
   "metadata": {},
   "outputs": [],
   "source": [
    "class Car():\n",
    "    def __init__(self, windows, doors, enginetype):\n",
    "        pass"
   ]
  },
  {
   "cell_type": "markdown",
   "id": "0c6322a3",
   "metadata": {},
   "source": [
    "#### Protected"
   ]
  },
  {
   "cell_type": "code",
   "execution_count": 21,
   "id": "b5faed94",
   "metadata": {},
   "outputs": [
    {
     "ename": "TypeError",
     "evalue": "__init__() missing 3 required positional arguments: 'windows', 'doors', and 'enginetype'",
     "output_type": "error",
     "traceback": [
      "\u001b[1;31m---------------------------------------------------------------------------\u001b[0m",
      "\u001b[1;31mTypeError\u001b[0m                                 Traceback (most recent call last)",
      "\u001b[1;32m~\\AppData\\Local\\Temp/ipykernel_112508/3799676625.py\u001b[0m in \u001b[0;36m<module>\u001b[1;34m\u001b[0m\n\u001b[0;32m     12\u001b[0m         \u001b[0mprint\u001b[0m\u001b[1;33m(\u001b[0m\u001b[1;34m\"Protected Data Member: \"\u001b[0m\u001b[1;33m,\u001b[0m \u001b[0mself\u001b[0m\u001b[1;33m.\u001b[0m\u001b[0m_doors\u001b[0m\u001b[1;33m)\u001b[0m\u001b[1;33m\u001b[0m\u001b[1;33m\u001b[0m\u001b[0m\n\u001b[0;32m     13\u001b[0m \u001b[1;33m\u001b[0m\u001b[0m\n\u001b[1;32m---> 14\u001b[1;33m \u001b[0mObj\u001b[0m \u001b[1;33m=\u001b[0m \u001b[0mCar\u001b[0m\u001b[1;33m(\u001b[0m\u001b[1;33m)\u001b[0m\u001b[1;33m\u001b[0m\u001b[1;33m\u001b[0m\u001b[0m\n\u001b[0m\u001b[0;32m     15\u001b[0m \u001b[0mObj\u001b[0m\u001b[1;33m.\u001b[0m\u001b[0m_displayProtectedMembers\u001b[0m\u001b[1;33m(\u001b[0m\u001b[1;33m)\u001b[0m\u001b[1;33m\u001b[0m\u001b[1;33m\u001b[0m\u001b[0m\n",
      "\u001b[1;31mTypeError\u001b[0m: __init__() missing 3 required positional arguments: 'windows', 'doors', and 'enginetype'"
     ]
    }
   ],
   "source": [
    "class Car():\n",
    "    def __init__(self, windows, doors, enginetype):\n",
    "        self._windows=windows\n",
    "        self._doors=doors\n",
    "        self._enginetype=enginetype\n",
    "    def _displayPublicMembers(self,i):\n",
    "        self.i=i\n",
    "        print(\"Public Data Member: \", self._doors) \n",
    "    \n",
    "    def _displayProtectedMembers(self,i):\n",
    "        print(\"Protected Data Member: \", self._doors)\n",
    "        \n",
    "Obj = Car()\n",
    "Obj._displayProtectedMembers()"
   ]
  },
  {
   "cell_type": "code",
   "execution_count": 28,
   "id": "65a025d4",
   "metadata": {},
   "outputs": [],
   "source": [
    "class Truck(Car):\n",
    "    def __init__(self, windows, doors, enginetype, horsepower):\n",
    "\n",
    "        super().__init__(self, windows, doors, enginetype)\n",
    "        "
   ]
  },
  {
   "cell_type": "markdown",
   "id": "7959abe6",
   "metadata": {},
   "source": [
    "### Private"
   ]
  },
  {
   "cell_type": "code",
   "execution_count": null,
   "id": "d7d7aa58",
   "metadata": {},
   "outputs": [],
   "source": []
  },
  {
   "cell_type": "markdown",
   "id": "c7656da2",
   "metadata": {},
   "source": [
    "### Important"
   ]
  },
  {
   "cell_type": "markdown",
   "id": "5d3a98f7",
   "metadata": {},
   "source": [
    "- magic or dunder or specific methods conssts of double ('__init__()') example"
   ]
  },
  {
   "cell_type": "code",
   "execution_count": 43,
   "id": "a6f5c2b3",
   "metadata": {},
   "outputs": [
    {
     "ename": "TypeError",
     "evalue": "__str__ returned non-string (type int)",
     "output_type": "error",
     "traceback": [
      "\u001b[1;31m---------------------------------------------------------------------------\u001b[0m",
      "\u001b[1;31mTypeError\u001b[0m                                 Traceback (most recent call last)",
      "\u001b[1;32m~\\AppData\\Local\\Temp/ipykernel_112508/644398688.py\u001b[0m in \u001b[0;36m<module>\u001b[1;34m\u001b[0m\n\u001b[0;32m     12\u001b[0m \u001b[0mobj2\u001b[0m \u001b[1;33m=\u001b[0m \u001b[0mA\u001b[0m\u001b[1;33m(\u001b[0m\u001b[1;33m)\u001b[0m\u001b[1;33m\u001b[0m\u001b[1;33m\u001b[0m\u001b[0m\n\u001b[0;32m     13\u001b[0m \u001b[0mobj3\u001b[0m \u001b[1;33m=\u001b[0m \u001b[0mC\u001b[0m\u001b[1;33m(\u001b[0m\u001b[1;33m)\u001b[0m\u001b[1;33m\u001b[0m\u001b[1;33m\u001b[0m\u001b[0m\n\u001b[1;32m---> 14\u001b[1;33m \u001b[0mprint\u001b[0m\u001b[1;33m(\u001b[0m\u001b[0mobj1\u001b[0m\u001b[1;33m,\u001b[0m \u001b[0mobj2\u001b[0m\u001b[1;33m,\u001b[0m \u001b[0mobj3\u001b[0m\u001b[1;33m)\u001b[0m\u001b[1;33m\u001b[0m\u001b[1;33m\u001b[0m\u001b[0m\n\u001b[0m\u001b[0;32m     15\u001b[0m \u001b[1;33m\u001b[0m\u001b[0m\n\u001b[0;32m     16\u001b[0m \u001b[1;34m'''to get the value convert the int type to string in class A __str__() method'''\u001b[0m\u001b[1;33m\u001b[0m\u001b[1;33m\u001b[0m\u001b[0m\n",
      "\u001b[1;31mTypeError\u001b[0m: __str__ returned non-string (type int)"
     ]
    }
   ],
   "source": [
    "class A:\n",
    "    def __str__(self):\n",
    "        return 1+1+1\n",
    "class B(A):\n",
    "    def __init__(self):\n",
    "        super().__init__()\n",
    "class C(B):\n",
    "    def __init__(self):\n",
    "        super().__init__()\n",
    "        \n",
    "obj1 = B()\n",
    "obj2 = A()\n",
    "obj3 = C()\n",
    "print(obj1, obj2, obj3)\n",
    "\n",
    "'''to get the value convert the int type to string in class A __str__() method'''"
   ]
  },
  {
   "cell_type": "markdown",
   "id": "888ff476",
   "metadata": {},
   "source": [
    "- Inheritance\n",
    "- - Single class(A) inheritate class(B)\n",
    "- - Multiple inheritance more than one base class\n",
    "- - multilevel inheritance inheritance in a row by different base classes class A --> class B --> class C\n",
    "- - Herarchical inheritance class A---> class b and class A-->classC\n",
    "- - Hybrid inhr. colab 2 or more inhr. levels"
   ]
  },
  {
   "cell_type": "code",
   "execution_count": 50,
   "id": "b6f280aa",
   "metadata": {},
   "outputs": [
    {
     "name": "stdout",
     "output_type": "stream",
     "text": [
      "8\n",
      "A\n"
     ]
    }
   ],
   "source": [
    "class A:\n",
    "    def __init__(self, a):\n",
    "        self.a = a\n",
    "        print(self.a)\n",
    "    def __str__(self):\n",
    "        return \"A\"\n",
    "abj = A(8)\n",
    "print(abj)"
   ]
  },
  {
   "cell_type": "code",
   "execution_count": 51,
   "id": "72e9e01c",
   "metadata": {},
   "outputs": [
    {
     "name": "stdout",
     "output_type": "stream",
     "text": [
      "1 2\n"
     ]
    }
   ],
   "source": [
    "class A:\n",
    "    def __init__(self, x=1):\n",
    "        self.x = x\n",
    "class der(A):    \n",
    "    def __init__(self, y=2):\n",
    "        A.__init__(self)\n",
    "        self.y = y\n",
    "obj = der()\n",
    "print(obj.x, obj.y)"
   ]
  },
  {
   "cell_type": "code",
   "execution_count": 2,
   "id": "bfc4c2a6",
   "metadata": {},
   "outputs": [],
   "source": [
    "class stud:\n",
    "    def __init__(self, roll_no, grade):\n",
    "        self.roll_no=roll_no\n",
    "        self.grade = grade\n",
    "    def display(self):\n",
    "        print(\"Roll no:\", self.roll_no)"
   ]
  },
  {
   "cell_type": "code",
   "execution_count": 6,
   "id": "fcbf1f42",
   "metadata": {},
   "outputs": [
    {
     "name": "stdout",
     "output_type": "stream",
     "text": [
      "6\n"
     ]
    }
   ],
   "source": [
    "class change:\n",
    "    def __init__(self, x, y, z):\n",
    "        self.a = x+y+z\n",
    "        \n",
    "x = change(1,2,3)\n",
    "y = getattr(x, 'a')\n",
    "setattr(x, 'a', y+1)\n",
    "print(y)"
   ]
  },
  {
   "cell_type": "code",
   "execution_count": 8,
   "id": "392fca70",
   "metadata": {},
   "outputs": [
    {
     "name": "stdout",
     "output_type": "stream",
     "text": [
      "Old\n",
      "New\n"
     ]
    }
   ],
   "source": [
    "class test:\n",
    "    def __init__(self):\n",
    "        self.variable = 'Old'\n",
    "        self.Change(self.variable)\n",
    "    def Change(self, var):\n",
    "        self.var = 'New'\n",
    "        \n",
    "obj = test()\n",
    "print(obj.variable)\n",
    "print(obj.var)"
   ]
  },
  {
   "cell_type": "code",
   "execution_count": 11,
   "id": "988fea77",
   "metadata": {},
   "outputs": [
    {
     "name": "stdout",
     "output_type": "stream",
     "text": [
      "13\n"
     ]
    }
   ],
   "source": [
    "class fruits:\n",
    "    def __init__(self, price):\n",
    "        self.price = price\n",
    "obj = fruits(50)\n",
    "\n",
    "obj.quantity=10\n",
    "obj.bag=2\n",
    "print(obj.quantity+len(obj.__dict__))"
   ]
  },
  {
   "cell_type": "code",
   "execution_count": 17,
   "id": "b802b241",
   "metadata": {},
   "outputs": [
    {
     "name": "stdout",
     "output_type": "stream",
     "text": [
      "__main__\n",
      "<__main__.Demo object at 0x000001FFF2B3A400>\n"
     ]
    }
   ],
   "source": [
    "class Demo:\n",
    "    def __init__(self):\n",
    "        pass\n",
    "    def test(self):\n",
    "        print(__name__)\n",
    "        \n",
    "obj = Demo()\n",
    "obj.test()\n",
    "print(obj)"
   ]
  },
  {
   "cell_type": "code",
   "execution_count": 22,
   "id": "611f31b1",
   "metadata": {},
   "outputs": [
    {
     "name": "stdout",
     "output_type": "stream",
     "text": [
      "Count.test= 25\n",
      "k= 0\n"
     ]
    }
   ],
   "source": [
    "def add(c,k):\n",
    "    c.test = c.test+1\n",
    "    k=k+1\n",
    "class A:\n",
    "    def __init__(self):\n",
    "        self.test=0\n",
    "Count = A()\n",
    "k = 0\n",
    "for i in range(0,25):\n",
    "    add(Count, k)\n",
    "print(\"Count.test=\",Count.test)\n",
    "print(\"k=\",k)"
   ]
  },
  {
   "cell_type": "code",
   "execution_count": 23,
   "id": "bc3cd41a",
   "metadata": {},
   "outputs": [
    {
     "name": "stdout",
     "output_type": "stream",
     "text": [
      "First method called\n"
     ]
    }
   ],
   "source": [
    "class B(object):\n",
    "    def first(self):\n",
    "        print(\"First method called\")\n",
    "    def second():\n",
    "        print(\"Second method called\")\n",
    "ob = B()\n",
    "B.first(ob)"
   ]
  },
  {
   "cell_type": "code",
   "execution_count": 9,
   "id": "aebf2f86",
   "metadata": {},
   "outputs": [
    {
     "name": "stdout",
     "output_type": "stream",
     "text": [
      "__str__ built-in function called\n"
     ]
    }
   ],
   "source": [
    "class demo():\n",
    "    def __str__(self):\n",
    "        return '__str__ built-in function called'\n",
    "    \n",
    "    def __repr__(self):\n",
    "        return '__repr__ built-in function called'\n",
    "\n",
    "s = demo()\n",
    "print(s)"
   ]
  },
  {
   "cell_type": "code",
   "execution_count": 10,
   "id": "c2976f7c",
   "metadata": {},
   "outputs": [
    {
     "name": "stdout",
     "output_type": "stream",
     "text": [
      "18\n"
     ]
    }
   ],
   "source": [
    "class f1:\n",
    "    def __init__(self,a,b,c):\n",
    "        self.v = a+b+c\n",
    "    def __repr__(self):\n",
    "        n=str(self.v)\n",
    "        return n\n",
    "o1 = f1(5,6,7)\n",
    "print(o1)"
   ]
  },
  {
   "cell_type": "code",
   "execution_count": 11,
   "id": "54852d0d",
   "metadata": {},
   "outputs": [
    {
     "name": "stdout",
     "output_type": "stream",
     "text": [
      "5\n"
     ]
    }
   ],
   "source": [
    "class f1:\n",
    "    def __init__(self,v):\n",
    "        self.__v = v\n",
    "    def update(self):\n",
    "        return self.__v\n",
    "t = f1(3)\n",
    "t.v = 5\n",
    "print(t.v)"
   ]
  },
  {
   "cell_type": "code",
   "execution_count": 13,
   "id": "27138c36",
   "metadata": {},
   "outputs": [
    {
     "name": "stdout",
     "output_type": "stream",
     "text": [
      "abc\n",
      "23\n"
     ]
    },
    {
     "data": {
      "text/plain": [
       "['__class__',\n",
       " '__delattr__',\n",
       " '__dict__',\n",
       " '__dir__',\n",
       " '__doc__',\n",
       " '__eq__',\n",
       " '__format__',\n",
       " '__ge__',\n",
       " '__getattribute__',\n",
       " '__gt__',\n",
       " '__hash__',\n",
       " '__init__',\n",
       " '__init_subclass__',\n",
       " '__le__',\n",
       " '__lt__',\n",
       " '__module__',\n",
       " '__ne__',\n",
       " '__new__',\n",
       " '__reduce__',\n",
       " '__reduce_ex__',\n",
       " '__repr__',\n",
       " '__setattr__',\n",
       " '__sizeof__',\n",
       " '__str__',\n",
       " '__subclasshook__',\n",
       " '__weakref__',\n",
       " 'a',\n",
       " 'b']"
      ]
     },
     "execution_count": 13,
     "metadata": {},
     "output_type": "execute_result"
    }
   ],
   "source": [
    "class f:\n",
    "    def __init__(self, a, b):\n",
    "        self.a = a\n",
    "        self.b = b\n",
    "        print(self.a)\n",
    "\n",
    "ob = f(\"abc\",4)\n",
    "ob.a = 23\n",
    "print(ob.a)\n",
    "dir(ob)"
   ]
  },
  {
   "cell_type": "code",
   "execution_count": 22,
   "id": "0a615148",
   "metadata": {},
   "outputs": [
    {
     "name": "stdout",
     "output_type": "stream",
     "text": [
      "hello new\n"
     ]
    }
   ],
   "source": [
    "def test1(a=\"hello\"):\n",
    "    print(\"new\")\n",
    "class test2:\n",
    "    def __init__(self):\n",
    "        pass\n",
    "    def test1(self):\n",
    "        print(\"hello new\")\n",
    "ob=test2()\n",
    "ob.test1()"
   ]
  },
  {
   "cell_type": "code",
   "execution_count": 24,
   "id": "afd5a430",
   "metadata": {},
   "outputs": [
    {
     "name": "stdout",
     "output_type": "stream",
     "text": [
      "new\n",
      "hello new\n"
     ]
    }
   ],
   "source": [
    "def test1(a=\"hello\"):\n",
    "    print(\"new\")\n",
    "class test2:\n",
    "    def __init__(self):\n",
    "        test1()\n",
    "    def test1(self):\n",
    "        print(\"hello new\")\n",
    "ob=test2()\n",
    "ob.test1()"
   ]
  },
  {
   "cell_type": "code",
   "execution_count": 27,
   "id": "21282f78",
   "metadata": {},
   "outputs": [
    {
     "name": "stdout",
     "output_type": "stream",
     "text": [
      "all clear\n"
     ]
    }
   ],
   "source": [
    "class test:\n",
    "    def __init__(self,clear=\"clear\"):\n",
    "        self.clear=\"all clear\"\n",
    "    def test1(self):\n",
    "        print(self.clear)\n",
    "ob = test()\n",
    "ob.test1()"
   ]
  },
  {
   "cell_type": "code",
   "execution_count": 31,
   "id": "62e6f5a5",
   "metadata": {},
   "outputs": [
    {
     "name": "stdout",
     "output_type": "stream",
     "text": [
      "1st invoked\n",
      "2nd invoked\n"
     ]
    }
   ],
   "source": [
    "class f1(object):\n",
    "    def f2(self):\n",
    "        print(\"1st invoked\")\n",
    "    def f3():\n",
    "        print(\"2nd invoked\")\n",
    "ob = f1()\n",
    "ob.f2()\n",
    "f1.f3()"
   ]
  },
  {
   "cell_type": "code",
   "execution_count": 50,
   "id": "6ffd10a2",
   "metadata": {},
   "outputs": [
    {
     "name": "stdout",
     "output_type": "stream",
     "text": [
      "__str__invoked\n"
     ]
    }
   ],
   "source": [
    "class f1():\n",
    "    def __repr__(self):\n",
    "        return '__repr__invoked'\n",
    "    def __str__(self):\n",
    "        return '__str__invoked'\n",
    "ob=f1()\n",
    "print(ob)"
   ]
  },
  {
   "cell_type": "code",
   "execution_count": 39,
   "id": "9c13cc49",
   "metadata": {},
   "outputs": [
    {
     "name": "stdout",
     "output_type": "stream",
     "text": [
      "Test\n"
     ]
    }
   ],
   "source": [
    "class Test:\n",
    "    pass\n",
    "print(Test.__name__)"
   ]
  },
  {
   "cell_type": "code",
   "execution_count": 51,
   "id": "01efe3e4",
   "metadata": {},
   "outputs": [
    {
     "name": "stdout",
     "output_type": "stream",
     "text": [
      "hello\n",
      "<__main__.Test object at 0x000002C0675602B0>\n"
     ]
    }
   ],
   "source": [
    "class Test:\n",
    "    def __init__(self):\n",
    "        print(\"hello\")\n",
    "ob=Test()\n",
    "print(ob)"
   ]
  },
  {
   "cell_type": "code",
   "execution_count": 76,
   "id": "867ab6f0",
   "metadata": {},
   "outputs": [
    {
     "name": "stdout",
     "output_type": "stream",
     "text": [
      "<class '__main__.f1'>\n",
      "<__main__.f1 object at 0x000002C06756C520>\n"
     ]
    }
   ],
   "source": [
    "class f1:\n",
    "    pass\n",
    "ob = f1()\n",
    "print(type(ob))\n",
    "print(ob)"
   ]
  },
  {
   "cell_type": "code",
   "execution_count": 7,
   "id": "2cfd5614",
   "metadata": {},
   "outputs": [
    {
     "data": {
      "text/plain": [
       "False"
      ]
     },
     "execution_count": 7,
     "metadata": {},
     "output_type": "execute_result"
    }
   ],
   "source": [
    "class f1:\n",
    "    def __init__(self,a):\n",
    "        self.a = a\n",
    "    def f22(self,b):\n",
    "        self.b=b\n",
    "        if(self.a < self.b):\n",
    "            return False\n",
    "        else:\n",
    "            return True\n",
    "ob = f1(5)\n",
    "ob.f22(6)"
   ]
  },
  {
   "cell_type": "code",
   "execution_count": 8,
   "id": "22dfda9d",
   "metadata": {},
   "outputs": [
    {
     "name": "stdout",
     "output_type": "stream",
     "text": [
      "In class A2\n",
      "None\n"
     ]
    }
   ],
   "source": [
    "class A1:\n",
    "    def method(self):\n",
    "        print(\"In class A1\")\n",
    "class A2(A1):\n",
    "    def method(self):\n",
    "        print(\"In class A2\")\n",
    "class A3(A1):\n",
    "    def method(self):\n",
    "        print(\"In class A3\")\n",
    "class A4(A2, A3):\n",
    "    pass\n",
    "\n",
    "ob = A4()\n",
    "print(ob.method())"
   ]
  },
  {
   "cell_type": "code",
   "execution_count": 9,
   "id": "20e6d315",
   "metadata": {},
   "outputs": [
    {
     "name": "stdout",
     "output_type": "stream",
     "text": [
      "In Class 4\n",
      "in Class 2\n",
      "In Class1\n"
     ]
    }
   ],
   "source": [
    "class Class1:\n",
    "    def m(self):\n",
    "        print(\"In Class1\")\n",
    "class Class2(Class1):\n",
    "    def m(self):\n",
    "        print(\"in Class 2\")\n",
    "        super().m()\n",
    "        \n",
    "class Class3:\n",
    "    def m(self):\n",
    "        print(\"In Class 3\")\n",
    "        \n",
    "class Class4(Class2, Class3):\n",
    "    def m(self):\n",
    "        print(\"In Class 4\")\n",
    "        super().m()\n",
    "        \n",
    "o  =Class4()\n",
    "o.m()"
   ]
  },
  {
   "cell_type": "code",
   "execution_count": 10,
   "id": "f7cf9eb3",
   "metadata": {},
   "outputs": [
    {
     "name": "stdout",
     "output_type": "stream",
     "text": [
      "In Class 4\n",
      "In Class 3\n"
     ]
    }
   ],
   "source": [
    "class Class1:\n",
    "    def m1(self):\n",
    "        print(\"In Class1\")\n",
    "class Class2(Class1):\n",
    "    def m1(self):\n",
    "        print(\"in Class 2\")\n",
    "        super().m()\n",
    "        \n",
    "class Class3:\n",
    "    def m(self):\n",
    "        print(\"In Class 3\")\n",
    "        \n",
    "class Class4(Class2, Class3):\n",
    "    def m(self):\n",
    "        print(\"In Class 4\")\n",
    "        super().m()\n",
    "        \n",
    "o  =Class4()\n",
    "o.m()"
   ]
  },
  {
   "cell_type": "code",
   "execution_count": 11,
   "id": "26018ae3",
   "metadata": {},
   "outputs": [
    {
     "name": "stdout",
     "output_type": "stream",
     "text": [
      "True\n"
     ]
    }
   ],
   "source": [
    "class stud:\n",
    "    def __init__(self, roll_no, grade):\n",
    "        self.roll_no=roll_no\n",
    "        self.grade=grade\n",
    "    def display(self):\n",
    "        print(self.roll_no,self.grade)\n",
    "stud1=stud(34,\"S\")\n",
    "stud1.age=7\n",
    "print(hasattr(stud1,'age'))"
   ]
  },
  {
   "cell_type": "code",
   "execution_count": 12,
   "id": "77adf40c",
   "metadata": {},
   "outputs": [
    {
     "name": "stdout",
     "output_type": "stream",
     "text": [
      "1 2\n"
     ]
    }
   ],
   "source": [
    "class A:\n",
    "    def __init__(self,x=1):\n",
    "        self.x=x\n",
    "class der(A):\n",
    "    def __init__(self,y=2):\n",
    "        super().__init__()\n",
    "        self.y=y\n",
    "obj = der()\n",
    "print(obj.x,obj.y)"
   ]
  },
  {
   "cell_type": "code",
   "execution_count": 15,
   "id": "e9e0faaf",
   "metadata": {},
   "outputs": [
    {
     "name": "stdout",
     "output_type": "stream",
     "text": [
      "Help on der in module __main__ object:\n",
      "\n",
      "class der(A)\n",
      " |  der(y=2)\n",
      " |  \n",
      " |  Method resolution order:\n",
      " |      der\n",
      " |      A\n",
      " |      builtins.object\n",
      " |  \n",
      " |  Methods defined here:\n",
      " |  \n",
      " |  __init__(self, y=2)\n",
      " |      Initialize self.  See help(type(self)) for accurate signature.\n",
      " |  \n",
      " |  ----------------------------------------------------------------------\n",
      " |  Data descriptors inherited from A:\n",
      " |  \n",
      " |  __dict__\n",
      " |      dictionary for instance variables (if defined)\n",
      " |  \n",
      " |  __weakref__\n",
      " |      list of weak references to the object (if defined)\n",
      "\n"
     ]
    }
   ],
   "source": [
    "help(obj)"
   ]
  },
  {
   "cell_type": "markdown",
   "id": "bfe109fb",
   "metadata": {},
   "source": [
    "### 25 Jan 2022"
   ]
  },
  {
   "cell_type": "code",
   "execution_count": 33,
   "id": "f5e7fdca",
   "metadata": {},
   "outputs": [
    {
     "name": "stdout",
     "output_type": "stream",
     "text": [
      "302\n"
     ]
    }
   ],
   "source": [
    "class ClassA:\n",
    "    __param1 = 200\n",
    "    def __init__(self):\n",
    "        self.__param1 = 100\n",
    "    def method1(self):\n",
    "        ClassA.__param1 = (ClassA.__param1+1)+self.__param1\n",
    "    @staticmethod\n",
    "    def method2():\n",
    "        print(ClassA.__param1+1)\n",
    "obj1 = ClassA()\n",
    "obj1.method1()\n",
    "ClassA.method2()"
   ]
  },
  {
   "cell_type": "code",
   "execution_count": 43,
   "id": "2840b450",
   "metadata": {},
   "outputs": [
    {
     "name": "stdout",
     "output_type": "stream",
     "text": [
      "Johny Johnny...., \n",
      "Yes Papa. \n",
      "Eating Sugar..., \n",
      "No Papa. \n",
      "Telling Lies..., \n",
      "No Papa. \n",
      "Johny Johnny...., \n",
      "Yes Papa. \n",
      "Eating Sugar..., \n",
      "No Papa. \n",
      "Open your mouth..., Ha. Ha. Ha\n"
     ]
    }
   ],
   "source": [
    "class ClassA:\n",
    "    def first_method(self):\n",
    "        print(\"Johny Johnny...., \")\n",
    "    def second_method(self):\n",
    "        print(\"Yes Papa. \")\n",
    "    def third_method(self):\n",
    "        print(\"Eating Sugar..., \")\n",
    "class ClassB(ClassA):\n",
    "    def second_method(self):\n",
    "        super().first_method()\n",
    "        super().second_method()\n",
    "        super().third_method()\n",
    "        print(\"No Papa. \")\n",
    "    def third_method(self):\n",
    "        print(\"Telling Lies..., \")\n",
    "class ClassC(ClassB):\n",
    "    def first_method(self):\n",
    "        print(\"Open your mouth..., Ha. Ha. Ha\")\n",
    "    def second_method(self):\n",
    "        print(\"No Papa. \")\n",
    "    def third_method(self):\n",
    "        super().second_method()\n",
    "        super().third_method()\n",
    "        self.second_method()\n",
    "obj_A=ClassA()\n",
    "obj_B=ClassB()\n",
    "obj_C=ClassC()\n",
    "# obj_B.second_method()\n",
    "# obj_B.third_method()\n",
    "# obj_C.second_method()\n",
    "# obj_C.first_method()\n",
    "obj_C.third_method()\n",
    "obj_B.second_method()\n",
    "obj_C.first_method()"
   ]
  },
  {
   "cell_type": "code",
   "execution_count": 64,
   "id": "2ccb6160",
   "metadata": {},
   "outputs": [
    {
     "name": "stdout",
     "output_type": "stream",
     "text": [
      "Red 4\n",
      "Blue 80\n"
     ]
    }
   ],
   "source": [
    "class Vehcile():\n",
    "    def __init__(self,color):\n",
    "        self.color= color\n",
    "class FourWheeler(Vehcile):\n",
    "    def __init__(self, no_of_gears,color):\n",
    "        super().__init__(color)\n",
    "        self.no_of_gears = no_of_gears\n",
    "class TwoWheeler(Vehcile):\n",
    "    def __init__(self,engine_cc):\n",
    "        super().__init__(\"Red\")\n",
    "        self.engine_cc=engine_cc\n",
    "        self.color=\"Blue\"\n",
    "        \n",
    "maruti = FourWheeler(4, \"Red\")\n",
    "print(maruti.color, maruti.no_of_gears)\n",
    "activa=TwoWheeler(80)\n",
    "print(activa.color, activa.engine_cc)"
   ]
  },
  {
   "cell_type": "code",
   "execution_count": 63,
   "id": "c1dff870",
   "metadata": {},
   "outputs": [
    {
     "name": "stdout",
     "output_type": "stream",
     "text": [
      "123 Volvo\n"
     ]
    }
   ],
   "source": [
    "class Car:\n",
    "    def __init__(self,car_id,car_name):\n",
    "        self.__car_id = car_id\n",
    "        self.car_name = car_name\n",
    "    def get_car_id(self):\n",
    "        return self.__car_id\n",
    "carl1 = Car(123,\"Volvo\")\n",
    "print(carl1.get_car_id(),carl1.car_name)"
   ]
  },
  {
   "cell_type": "markdown",
   "id": "9e7de1e9",
   "metadata": {},
   "source": [
    "### 27 Jan 2022"
   ]
  },
  {
   "cell_type": "markdown",
   "id": "bda8b501",
   "metadata": {},
   "source": [
    "#### =, shallowcopy(), deepcopy()"
   ]
  },
  {
   "cell_type": "code",
   "execution_count": 1,
   "id": "77606307",
   "metadata": {},
   "outputs": [],
   "source": [
    "list1=[1,2,3,4]\n",
    "list2 = list1"
   ]
  },
  {
   "cell_type": "code",
   "execution_count": 2,
   "id": "741d9a52",
   "metadata": {},
   "outputs": [
    {
     "data": {
      "text/plain": [
       "([1, 2, 3, 4], [1, 2, 3, 4])"
      ]
     },
     "execution_count": 2,
     "metadata": {},
     "output_type": "execute_result"
    }
   ],
   "source": [
    "list1, list2"
   ]
  },
  {
   "cell_type": "code",
   "execution_count": 3,
   "id": "c167a20f",
   "metadata": {},
   "outputs": [
    {
     "data": {
      "text/plain": [
       "2252991621568"
      ]
     },
     "execution_count": 3,
     "metadata": {},
     "output_type": "execute_result"
    }
   ],
   "source": [
    "id(list1)"
   ]
  },
  {
   "cell_type": "code",
   "execution_count": 4,
   "id": "23e7f34e",
   "metadata": {},
   "outputs": [
    {
     "data": {
      "text/plain": [
       "2252991621568"
      ]
     },
     "execution_count": 4,
     "metadata": {},
     "output_type": "execute_result"
    }
   ],
   "source": [
    "id(list2)"
   ]
  },
  {
   "cell_type": "code",
   "execution_count": 5,
   "id": "d92200ef",
   "metadata": {},
   "outputs": [],
   "source": [
    "list2[1]=100"
   ]
  },
  {
   "cell_type": "code",
   "execution_count": 6,
   "id": "43606d2b",
   "metadata": {},
   "outputs": [
    {
     "data": {
      "text/plain": [
       "([1, 100, 3, 4], [1, 100, 3, 4])"
      ]
     },
     "execution_count": 6,
     "metadata": {},
     "output_type": "execute_result"
    }
   ],
   "source": [
    "list1, list2"
   ]
  },
  {
   "cell_type": "code",
   "execution_count": 7,
   "id": "63ee5aaa",
   "metadata": {},
   "outputs": [],
   "source": [
    "list1[2]=200"
   ]
  },
  {
   "cell_type": "code",
   "execution_count": 8,
   "id": "dcefa391",
   "metadata": {},
   "outputs": [
    {
     "data": {
      "text/plain": [
       "([1, 100, 200, 4], [1, 100, 200, 4])"
      ]
     },
     "execution_count": 8,
     "metadata": {},
     "output_type": "execute_result"
    }
   ],
   "source": [
    "list1,list2"
   ]
  },
  {
   "cell_type": "code",
   "execution_count": 12,
   "id": "5cae6f56",
   "metadata": {},
   "outputs": [],
   "source": [
    "lst1 = [1,2,3,4]"
   ]
  },
  {
   "cell_type": "markdown",
   "id": "354c6a29",
   "metadata": {},
   "source": [
    "#### Shallow copy"
   ]
  },
  {
   "cell_type": "code",
   "execution_count": 10,
   "id": "e0d49c08",
   "metadata": {},
   "outputs": [],
   "source": [
    "lst2=lst1.copy()"
   ]
  },
  {
   "cell_type": "code",
   "execution_count": 11,
   "id": "7b1798f3",
   "metadata": {},
   "outputs": [
    {
     "data": {
      "text/plain": [
       "([1, 2, 3, 4], [1, 2, 3, 4])"
      ]
     },
     "execution_count": 11,
     "metadata": {},
     "output_type": "execute_result"
    }
   ],
   "source": [
    "lst1,lst2"
   ]
  },
  {
   "cell_type": "code",
   "execution_count": 13,
   "id": "acf6400b",
   "metadata": {},
   "outputs": [],
   "source": [
    "lst2[1]=100"
   ]
  },
  {
   "cell_type": "code",
   "execution_count": 17,
   "id": "214386cf",
   "metadata": {},
   "outputs": [
    {
     "data": {
      "text/plain": [
       "([1, 2, 3, 4], [1, 100, 3, 4])"
      ]
     },
     "execution_count": 17,
     "metadata": {},
     "output_type": "execute_result"
    }
   ],
   "source": [
    "lst1,lst2"
   ]
  },
  {
   "cell_type": "code",
   "execution_count": 18,
   "id": "800cd414",
   "metadata": {},
   "outputs": [
    {
     "data": {
      "text/plain": [
       "2252991631744"
      ]
     },
     "execution_count": 18,
     "metadata": {},
     "output_type": "execute_result"
    }
   ],
   "source": [
    "id(lst1)"
   ]
  },
  {
   "cell_type": "code",
   "execution_count": 19,
   "id": "dc0a2f56",
   "metadata": {},
   "outputs": [
    {
     "data": {
      "text/plain": [
       "2252991631936"
      ]
     },
     "execution_count": 19,
     "metadata": {},
     "output_type": "execute_result"
    }
   ],
   "source": [
    "id(lst2)"
   ]
  },
  {
   "cell_type": "markdown",
   "id": "b21d8e93",
   "metadata": {},
   "source": [
    "#### Shallow copy in nested list"
   ]
  },
  {
   "cell_type": "code",
   "execution_count": 20,
   "id": "e8edf3d4",
   "metadata": {},
   "outputs": [],
   "source": [
    "lst1 = [[1,2,3,4],[5,6,7,8],[2,6,5]]"
   ]
  },
  {
   "cell_type": "code",
   "execution_count": 21,
   "id": "de16b532",
   "metadata": {},
   "outputs": [],
   "source": [
    "lst2=lst1.copy()"
   ]
  },
  {
   "cell_type": "code",
   "execution_count": 53,
   "id": "fb3ca4ee",
   "metadata": {},
   "outputs": [],
   "source": [
    "lst2[1][0]=100"
   ]
  },
  {
   "cell_type": "code",
   "execution_count": 56,
   "id": "50f3d38f",
   "metadata": {},
   "outputs": [
    {
     "data": {
      "text/plain": [
       "2252991583680"
      ]
     },
     "execution_count": 56,
     "metadata": {},
     "output_type": "execute_result"
    }
   ],
   "source": [
    "id(lst1)"
   ]
  },
  {
   "cell_type": "code",
   "execution_count": 57,
   "id": "0c066a55",
   "metadata": {},
   "outputs": [
    {
     "data": {
      "text/plain": [
       "2252991578880"
      ]
     },
     "execution_count": 57,
     "metadata": {},
     "output_type": "execute_result"
    }
   ],
   "source": [
    "id(lst2)"
   ]
  },
  {
   "cell_type": "code",
   "execution_count": 23,
   "id": "6e903af7",
   "metadata": {},
   "outputs": [
    {
     "data": {
      "text/plain": [
       "([[1, 2, 3, 4], [100, 6, 7, 8], [2, 6, 5]],\n",
       " [[1, 2, 3, 4], [100, 6, 7, 8], [2, 6, 5]])"
      ]
     },
     "execution_count": 23,
     "metadata": {},
     "output_type": "execute_result"
    }
   ],
   "source": [
    "lst1,lst2"
   ]
  },
  {
   "cell_type": "code",
   "execution_count": 24,
   "id": "7730b2c3",
   "metadata": {},
   "outputs": [],
   "source": [
    "lst1.append([2,3,4,5])"
   ]
  },
  {
   "cell_type": "code",
   "execution_count": 48,
   "id": "6aa3f96c",
   "metadata": {},
   "outputs": [
    {
     "data": {
      "text/plain": [
       "[[1, 2, 3, 4], [5, 100, 7, 8]]"
      ]
     },
     "execution_count": 48,
     "metadata": {},
     "output_type": "execute_result"
    }
   ],
   "source": [
    "lst2"
   ]
  },
  {
   "cell_type": "code",
   "execution_count": 45,
   "id": "77232e0e",
   "metadata": {},
   "outputs": [
    {
     "data": {
      "text/plain": [
       "([[1, 2, 3, 4], [5, 6, 7, 8], [2, 4, 5, 6]], [[1, 2, 3, 4], [5, 100, 7, 8]])"
      ]
     },
     "execution_count": 45,
     "metadata": {},
     "output_type": "execute_result"
    }
   ],
   "source": [
    "lst1,lst2"
   ]
  },
  {
   "cell_type": "markdown",
   "id": "de285ee7",
   "metadata": {},
   "source": [
    "#### Deep copy()"
   ]
  },
  {
   "cell_type": "code",
   "execution_count": 26,
   "id": "79522576",
   "metadata": {},
   "outputs": [],
   "source": [
    "import copy\n",
    "lst1 = [1,2,3,4]\n",
    "lst2=copy.deepcopy(lst1)"
   ]
  },
  {
   "cell_type": "code",
   "execution_count": 33,
   "id": "82092d2f",
   "metadata": {},
   "outputs": [
    {
     "data": {
      "text/plain": [
       "([1, 2, 3, 4], [1, 100, 3, 4])"
      ]
     },
     "execution_count": 33,
     "metadata": {},
     "output_type": "execute_result"
    }
   ],
   "source": [
    "lst1,lst2"
   ]
  },
  {
   "cell_type": "code",
   "execution_count": 34,
   "id": "de3c2951",
   "metadata": {},
   "outputs": [
    {
     "name": "stdout",
     "output_type": "stream",
     "text": [
      "2252991632512\n"
     ]
    }
   ],
   "source": [
    "print(id(lst1))"
   ]
  },
  {
   "cell_type": "code",
   "execution_count": 35,
   "id": "ed934c82",
   "metadata": {},
   "outputs": [],
   "source": [
    "lst2[1]=100"
   ]
  },
  {
   "cell_type": "code",
   "execution_count": 36,
   "id": "c83d74a6",
   "metadata": {},
   "outputs": [
    {
     "name": "stdout",
     "output_type": "stream",
     "text": [
      "2252991627136\n"
     ]
    }
   ],
   "source": [
    "print(id(lst2))"
   ]
  },
  {
   "cell_type": "code",
   "execution_count": 37,
   "id": "4cf8fcdf",
   "metadata": {},
   "outputs": [
    {
     "data": {
      "text/plain": [
       "([1, 2, 3, 4], [1, 100, 3, 4])"
      ]
     },
     "execution_count": 37,
     "metadata": {},
     "output_type": "execute_result"
    }
   ],
   "source": [
    "lst1,lst2"
   ]
  },
  {
   "cell_type": "code",
   "execution_count": 38,
   "id": "205fc269",
   "metadata": {},
   "outputs": [],
   "source": [
    "lst1=[[1,2,3,4],[5,6,7,8]]\n",
    "lst2=copy.deepcopy(lst1)"
   ]
  },
  {
   "cell_type": "code",
   "execution_count": 39,
   "id": "52fa7ed3",
   "metadata": {},
   "outputs": [
    {
     "data": {
      "text/plain": [
       "([[1, 2, 3, 4], [5, 6, 7, 8]], [[1, 2, 3, 4], [5, 6, 7, 8]])"
      ]
     },
     "execution_count": 39,
     "metadata": {},
     "output_type": "execute_result"
    }
   ],
   "source": [
    "lst1,lst2"
   ]
  },
  {
   "cell_type": "code",
   "execution_count": 41,
   "id": "66e956f4",
   "metadata": {},
   "outputs": [],
   "source": [
    "lst2[1][1]=100"
   ]
  },
  {
   "cell_type": "code",
   "execution_count": 42,
   "id": "781edaa2",
   "metadata": {},
   "outputs": [
    {
     "data": {
      "text/plain": [
       "([[1, 2, 3, 4], [5, 6, 7, 8]], [[1, 2, 3, 4], [5, 100, 7, 8]])"
      ]
     },
     "execution_count": 42,
     "metadata": {},
     "output_type": "execute_result"
    }
   ],
   "source": [
    "lst1,lst2"
   ]
  },
  {
   "cell_type": "code",
   "execution_count": 49,
   "id": "4f87ea9d",
   "metadata": {},
   "outputs": [],
   "source": [
    "lst1.append([2,4,5,6])"
   ]
  },
  {
   "cell_type": "code",
   "execution_count": 50,
   "id": "00164fd5",
   "metadata": {},
   "outputs": [
    {
     "data": {
      "text/plain": [
       "[[1, 2, 3, 4], [5, 6, 7, 8], [2, 4, 5, 6], [2, 4, 5, 6]]"
      ]
     },
     "execution_count": 50,
     "metadata": {},
     "output_type": "execute_result"
    }
   ],
   "source": [
    "lst1"
   ]
  },
  {
   "cell_type": "code",
   "execution_count": 52,
   "id": "ff89b856",
   "metadata": {},
   "outputs": [
    {
     "data": {
      "text/plain": [
       "([[1, 2, 3, 4], [5, 6, 7, 8], [2, 4, 5, 6], [2, 4, 5, 6]],\n",
       " [[1, 2, 3, 4], [5, 100, 7, 8]])"
      ]
     },
     "execution_count": 52,
     "metadata": {},
     "output_type": "execute_result"
    }
   ],
   "source": [
    "lst1,lst2"
   ]
  },
  {
   "cell_type": "markdown",
   "id": "7fc76b07",
   "metadata": {},
   "source": [
    "## Anonymous function\n",
    "-  lambda arguments : expression "
   ]
  },
  {
   "cell_type": "code",
   "execution_count": 67,
   "id": "ebc4af2d",
   "metadata": {},
   "outputs": [
    {
     "name": "stdout",
     "output_type": "stream",
     "text": [
      "8\n"
     ]
    }
   ],
   "source": [
    "increment = lambda x,y,z : x+y+z\n",
    "# num=[5,1,2]\n",
    "print(increment(5,1,2))\n",
    "# print(increment(num))"
   ]
  },
  {
   "cell_type": "code",
   "execution_count": 61,
   "id": "0fba94f9",
   "metadata": {},
   "outputs": [
    {
     "name": "stdout",
     "output_type": "stream",
     "text": [
      "25\n"
     ]
    }
   ],
   "source": [
    "increment = lambda x : x**2\n",
    "print(increment(5))"
   ]
  },
  {
   "cell_type": "code",
   "execution_count": 66,
   "id": "6cf6a668",
   "metadata": {},
   "outputs": [
    {
     "name": "stdout",
     "output_type": "stream",
     "text": [
      "10.0\n"
     ]
    }
   ],
   "source": [
    "increment = lambda x,y,z : x*y*z/100\n",
    "# num=[5,1,2]\n",
    "print(increment(500,1,2))\n",
    "# print(increment(num))"
   ]
  },
  {
   "cell_type": "code",
   "execution_count": 68,
   "id": "18e1d8f6",
   "metadata": {},
   "outputs": [
    {
     "name": "stdout",
     "output_type": "stream",
     "text": [
      "4\n"
     ]
    }
   ],
   "source": [
    "y=2\n",
    "xx=lambda x: x*y\n",
    "print(xx(2))"
   ]
  },
  {
   "cell_type": "markdown",
   "id": "125ccc27",
   "metadata": {},
   "source": [
    "### Higher order function\n",
    "- function which can be passed as an argument\n",
    "- function which take first class function as an argument \n",
    "- fun1(fun2()) --> fun1 : higher order and fun2 : first class function"
   ]
  },
  {
   "cell_type": "code",
   "execution_count": 72,
   "id": "348d42f3",
   "metadata": {},
   "outputs": [
    {
     "name": "stdout",
     "output_type": "stream",
     "text": [
      "15\n"
     ]
    }
   ],
   "source": [
    "def f1(f2):\n",
    "    return lambda x: f2(x)+5\n",
    "def f2(x):\n",
    "    return x+5\n",
    "a=f1(f2)\n",
    "print(a(5))"
   ]
  },
  {
   "cell_type": "code",
   "execution_count": 75,
   "id": "5de46332",
   "metadata": {},
   "outputs": [
    {
     "name": "stdout",
     "output_type": "stream",
     "text": [
      "a 25\n",
      "b 20\n",
      "Multiplication result 500\n"
     ]
    }
   ],
   "source": [
    "def mul(a):#<<--------------------\\\n",
    "    print(\"a\", a)     #           |\n",
    "    def multiplier(b):#           \\\n",
    "        print(\"b\",b) #            |\n",
    "        return a*b   #            \\\n",
    "    return multiplier#>>----------|\n",
    "mul20 = mul(25)\n",
    "print(\"Multiplication result\", mul20(20))"
   ]
  },
  {
   "cell_type": "markdown",
   "id": "6cc7e373",
   "metadata": {},
   "source": [
    "### Built-in function in Python"
   ]
  },
  {
   "cell_type": "markdown",
   "id": "00cc6524",
   "metadata": {},
   "source": [
    "# map\n",
    "'\n",
    "Init signature: map(self, /, *args, **kwargs)\n",
    "Docstring:     \n",
    "map(func, *iterables) --> map object\n",
    "\n",
    "Make an iterator that computes the function using arguments from\n",
    "each of the iterables.  Stops when the shortest iterable is exhausted.\n",
    "Type:           type\n",
    "Subclasses:     \n",
    "'"
   ]
  },
  {
   "cell_type": "code",
   "execution_count": 91,
   "id": "b8b18484",
   "metadata": {},
   "outputs": [
    {
     "name": "stdout",
     "output_type": "stream",
     "text": [
      "[3, 4, 5, 6, 7]\n"
     ]
    }
   ],
   "source": [
    "nums=[1,2,3,4,5]\n",
    "summ = list(map(lambda x: x+2, nums))\n",
    "# nums=map(sum, nums)\n",
    "# for i in range(len(nums)):\n",
    "#     nums[i]=nums[i]+2\n",
    "print((summ))"
   ]
  },
  {
   "cell_type": "code",
   "execution_count": 96,
   "id": "f1b893c3",
   "metadata": {},
   "outputs": [
    {
     "name": "stdout",
     "output_type": "stream",
     "text": [
      "2 5 4 68 6  9684 61 89 6 16 46 516 \n"
     ]
    },
    {
     "data": {
      "text/plain": [
       "[2, 4, 5, 6, 68, 516, 46, 16, 9684, 89, 61]"
      ]
     },
     "execution_count": 96,
     "metadata": {},
     "output_type": "execute_result"
    }
   ],
   "source": [
    "list(set(map(int,input().split())))"
   ]
  },
  {
   "cell_type": "markdown",
   "id": "8dc72e47",
   "metadata": {},
   "source": [
    "## Filter()"
   ]
  },
  {
   "cell_type": "code",
   "execution_count": 3,
   "id": "80e0f562",
   "metadata": {},
   "outputs": [
    {
     "name": "stdout",
     "output_type": "stream",
     "text": [
      "[2, 4, 6]\n"
     ]
    }
   ],
   "source": [
    "my_list = [1, 2, 3, 4, 5, 6, 7]\n",
    "print(list(filter(lambda x: x%2==0, my_list)))"
   ]
  },
  {
   "cell_type": "markdown",
   "id": "871302b3",
   "metadata": {},
   "source": [
    "### Reduce()"
   ]
  },
  {
   "cell_type": "code",
   "execution_count": 4,
   "id": "90ee262f",
   "metadata": {},
   "outputs": [
    {
     "name": "stdout",
     "output_type": "stream",
     "text": [
      "56\n"
     ]
    }
   ],
   "source": [
    "from functools import reduce\n",
    "num=[1,2,3,4,5,6,7,8,9,10]\n",
    "sumi=reduce(lambda x,y: x+y,num,1)\n",
    "print(sumi)"
   ]
  },
  {
   "cell_type": "code",
   "execution_count": 5,
   "id": "8b4cd596",
   "metadata": {},
   "outputs": [
    {
     "name": "stdout",
     "output_type": "stream",
     "text": [
      "2\n"
     ]
    }
   ],
   "source": [
    "x=['ab','cd']\n",
    "print(len(list(map(list,x))))"
   ]
  },
  {
   "cell_type": "markdown",
   "id": "454622f7",
   "metadata": {},
   "source": [
    "### 28 Jan 2022"
   ]
  },
  {
   "cell_type": "code",
   "execution_count": 45,
   "id": "272821f8",
   "metadata": {},
   "outputs": [
    {
     "name": "stdout",
     "output_type": "stream",
     "text": [
      "0+0j\n"
     ]
    }
   ],
   "source": [
    "class EmployeeData:\n",
    "    def __init__(self, sal=0, age=0):\n",
    "        self.sal = sal\n",
    "        self.age = age\n",
    "\n",
    "    def getData(self):\n",
    "        print(\"{0}+{1}j\".format(self.sal,self.age))\n",
    "\n",
    "empdata = EmployeeData()\n",
    "empdata.getData()"
   ]
  },
  {
   "cell_type": "code",
   "execution_count": 46,
   "id": "89d95d9f",
   "metadata": {},
   "outputs": [
    {
     "name": "stdout",
     "output_type": "stream",
     "text": [
      "Hello World\n"
     ]
    }
   ],
   "source": [
    "class Test:\n",
    "    def __init__(self,a=\"Hello World\"):\n",
    "        self.a=a\n",
    "    def display(self):\n",
    "        print(self.a)\n",
    "obj=Test()\n",
    "obj.display()"
   ]
  },
  {
   "cell_type": "code",
   "execution_count": 47,
   "id": "0d7ae782",
   "metadata": {},
   "outputs": [
    {
     "name": "stdout",
     "output_type": "stream",
     "text": [
      "__main__\n"
     ]
    }
   ],
   "source": [
    "class Demo:\n",
    "    def __init__(self):\n",
    "        pass\n",
    "    def test(self):\n",
    "        print(__name__)\n",
    "obj=Demo()\n",
    "obj.test()"
   ]
  },
  {
   "cell_type": "code",
   "execution_count": 48,
   "id": "170335c6",
   "metadata": {},
   "outputs": [
    {
     "name": "stdout",
     "output_type": "stream",
     "text": [
      "None\n"
     ]
    }
   ],
   "source": [
    "class Object:\n",
    "    def __init__(self,a,b,c,d):\n",
    "        _b=b\n",
    "        self._a=a\n",
    "        __c__=c\n",
    "        self.__d=d\n",
    "\n",
    "obj=Object(1,2,3,4)\n",
    "print(obj.__init__(1,2,3,4))"
   ]
  },
  {
   "cell_type": "code",
   "execution_count": 49,
   "id": "4560bb67",
   "metadata": {},
   "outputs": [
    {
     "data": {
      "text/plain": [
       "123"
      ]
     },
     "execution_count": 49,
     "metadata": {},
     "output_type": "execute_result"
    }
   ],
   "source": [
    "class Sales:\n",
    "    def __init__(self,id):\n",
    "        self.id=id\n",
    "        id=100\n",
    "val=Sales(123)\n",
    "val.id"
   ]
  },
  {
   "cell_type": "code",
   "execution_count": 50,
   "id": "a86dc154",
   "metadata": {},
   "outputs": [
    {
     "name": "stdout",
     "output_type": "stream",
     "text": [
      "i from A is 90\n"
     ]
    }
   ],
   "source": [
    "class A:\n",
    "    def __init__(self):\n",
    "        self.calcl(30)\n",
    "        print(\"i from A is\",self.i)\n",
    "    def calcl(self,i):\n",
    "        self.i = 2*i\n",
    "class B(A):\n",
    "    def __init__(self):\n",
    "        super().__init__()\n",
    "    def calcl(self,i):\n",
    "        self.i = 3*i\n",
    "\n",
    "b=B()"
   ]
  },
  {
   "cell_type": "code",
   "execution_count": 51,
   "id": "f480b70d",
   "metadata": {},
   "outputs": [
    {
     "data": {
      "text/plain": [
       "1"
      ]
     },
     "execution_count": 51,
     "metadata": {},
     "output_type": "execute_result"
    }
   ],
   "source": [
    "class Demo:\n",
    "    count = 0\n",
    "    def __init__(self):\n",
    "        self.count+=1\n",
    "    def get_count(self):\n",
    "        return self.count\n",
    "demo=Demo()\n",
    "demo.get_count()"
   ]
  },
  {
   "cell_type": "code",
   "execution_count": 52,
   "id": "2c176163",
   "metadata": {},
   "outputs": [
    {
     "name": "stdout",
     "output_type": "stream",
     "text": [
      "3\n"
     ]
    }
   ],
   "source": [
    "class Demo:\n",
    "    count=0\n",
    "    def __init__(self):\n",
    "        Demo.count+=1\n",
    "    def get_count(self):\n",
    "        return Demo.count\n",
    "demo1 = Demo()\n",
    "demo2 = Demo()\n",
    "demo3 = Demo()\n",
    "print(demo1.get_count())"
   ]
  },
  {
   "cell_type": "code",
   "execution_count": 53,
   "id": "a83fff70",
   "metadata": {},
   "outputs": [
    {
     "name": "stdout",
     "output_type": "stream",
     "text": [
      "300 400\n"
     ]
    }
   ],
   "source": [
    "class P:\n",
    "    def __init__(self):\n",
    "        self.__x=100\n",
    "        self.y=200\n",
    "    def print(self):\n",
    "        print(self.__x,self.y)\n",
    "class C(P):\n",
    "    def __init__(self):\n",
    "        super().__init__()\n",
    "        self.__x=300\n",
    "        self.y=400\n",
    "    def print(self):\n",
    "        print(self.__x,self.y)\n",
    "d=C()\n",
    "d.print()"
   ]
  },
  {
   "cell_type": "code",
   "execution_count": 54,
   "id": "fb6f07ca",
   "metadata": {},
   "outputs": [
    {
     "name": "stdout",
     "output_type": "stream",
     "text": [
      "100 400\n"
     ]
    }
   ],
   "source": [
    "class P:\n",
    "    def __init__(self):\n",
    "        self.__x=100\n",
    "        self.y=200\n",
    "    def print(self):\n",
    "        print(self.__x,self.y)\n",
    "class C(P):\n",
    "    def __init__(self):\n",
    "        super().__init__()\n",
    "        self.__x=300\n",
    "        self.y=400\n",
    "#     def print(self):\n",
    "#         print(self.__x,self.y)\n",
    "d=C()\n",
    "d.print()"
   ]
  },
  {
   "cell_type": "code",
   "execution_count": 1,
   "id": "becfa393",
   "metadata": {},
   "outputs": [
    {
     "name": "stdout",
     "output_type": "stream",
     "text": [
      "1\n"
     ]
    }
   ],
   "source": [
    "class Demo:\n",
    "    def __init__(self):\n",
    "        self.a = 1\n",
    "        self.__b = 1\n",
    " \n",
    "    def display(self):\n",
    "        return self.__b\n",
    "obj = Demo()\n",
    "print(obj.a)"
   ]
  },
  {
   "cell_type": "code",
   "execution_count": 2,
   "id": "a0bdfc10",
   "metadata": {},
   "outputs": [
    {
     "name": "stdout",
     "output_type": "stream",
     "text": [
      "0+0j\n"
     ]
    }
   ],
   "source": [
    "class EmployeeData:\n",
    "    def __init__(self, sal=0, age=0):\n",
    "        self.sal = sal\n",
    "        self.age = age\n",
    "\n",
    "    def getData(self):\n",
    "        print(\"{0}+{1}j\".format(self.sal,self.age))\n",
    "\n",
    "empdata = EmployeeData()\n",
    "empdata.getData()"
   ]
  },
  {
   "cell_type": "code",
   "execution_count": 3,
   "id": "86ac131b",
   "metadata": {},
   "outputs": [
    {
     "ename": "NameError",
     "evalue": "name 'test' is not defined",
     "output_type": "error",
     "traceback": [
      "\u001b[1;31m---------------------------------------------------------------------------\u001b[0m",
      "\u001b[1;31mNameError\u001b[0m                                 Traceback (most recent call last)",
      "\u001b[1;32m~\\AppData\\Local\\Temp/ipykernel_173496/366694618.py\u001b[0m in \u001b[0;36m<module>\u001b[1;34m\u001b[0m\n\u001b[0;32m      6\u001b[0m          \u001b[0mprint\u001b[0m\u001b[1;33m(\u001b[0m\u001b[0mself\u001b[0m\u001b[1;33m.\u001b[0m\u001b[0ma\u001b[0m\u001b[1;33m)\u001b[0m\u001b[1;33m\u001b[0m\u001b[1;33m\u001b[0m\u001b[0m\n\u001b[0;32m      7\u001b[0m \u001b[1;33m\u001b[0m\u001b[0m\n\u001b[1;32m----> 8\u001b[1;33m \u001b[0mobj\u001b[0m\u001b[1;33m=\u001b[0m\u001b[0mtest\u001b[0m\u001b[1;33m(\u001b[0m\u001b[1;33m)\u001b[0m\u001b[1;33m\u001b[0m\u001b[1;33m\u001b[0m\u001b[0m\n\u001b[0m\u001b[0;32m      9\u001b[0m \u001b[0mobj\u001b[0m\u001b[1;33m.\u001b[0m\u001b[0mdisplay\u001b[0m\u001b[1;33m(\u001b[0m\u001b[1;33m)\u001b[0m\u001b[1;33m\u001b[0m\u001b[1;33m\u001b[0m\u001b[0m\n",
      "\u001b[1;31mNameError\u001b[0m: name 'test' is not defined"
     ]
    }
   ],
   "source": [
    "class Test:\n",
    "     def __init__(self, a=\"Hello World\"):\n",
    "           self.a=a\n",
    " \n",
    "     def display(self):\n",
    "         print(self.a)\n",
    "\n",
    "obj=test()\n",
    "obj.display()"
   ]
  },
  {
   "cell_type": "code",
   "execution_count": 4,
   "id": "d7347232",
   "metadata": {},
   "outputs": [
    {
     "name": "stdout",
     "output_type": "stream",
     "text": [
      "__main__\n"
     ]
    }
   ],
   "source": [
    "class Demo:\n",
    "    def __init__(self):\n",
    "        pass\n",
    " \n",
    "    def test(self):\n",
    "        print(__name__)\n",
    " \n",
    "obj = Demo()\n",
    "obj.test()\n"
   ]
  },
  {
   "cell_type": "code",
   "execution_count": 6,
   "id": "3418e66f",
   "metadata": {},
   "outputs": [
    {
     "name": "stdout",
     "output_type": "stream",
     "text": [
      "True\n"
     ]
    }
   ],
   "source": [
    "class Stud:\n",
    "   def __init__(self, roll_no, grade):\n",
    "       self.roll_no = roll_no\n",
    "       self.grade = grade\n",
    "\n",
    "   def display (self):\n",
    "       print(\"Roll no : \", self.roll_no,  \", Grade: \", self.grade)\n",
    "\n",
    "stud1 = Stud(34, 'S')\n",
    "stud1.age=7\n",
    "print (hasattr(stud1, 'age'))\n"
   ]
  },
  {
   "cell_type": "code",
   "execution_count": 8,
   "id": "3b73cdef",
   "metadata": {},
   "outputs": [
    {
     "name": "stdout",
     "output_type": "stream",
     "text": [
      "Circle\n"
     ]
    }
   ],
   "source": [
    "class objects:\n",
    "    def __init__(self):\n",
    "        self.colour = None\n",
    "        self._shape = \"Circle\" \n",
    " \n",
    "    def display(self, s):\n",
    "        self._shape = s\n",
    "\n",
    "obj=objects()\n",
    "print(obj._shape)"
   ]
  },
  {
   "cell_type": "code",
   "execution_count": 9,
   "id": "d8caf5ae",
   "metadata": {},
   "outputs": [
    {
     "name": "stdout",
     "output_type": "stream",
     "text": [
      "123\n"
     ]
    }
   ],
   "source": [
    "class Sales:\n",
    "    def __init__(self, id):\n",
    "        self.id = id\n",
    "        id = 100\n",
    "\n",
    "val = Sales(123)\n",
    "print (val.id)\n"
   ]
  },
  {
   "cell_type": "code",
   "execution_count": 11,
   "id": "03d8d721",
   "metadata": {},
   "outputs": [
    {
     "name": "stdout",
     "output_type": "stream",
     "text": [
      "0\n",
      "0\n"
     ]
    }
   ],
   "source": [
    "class A:\n",
    "    def __init__(self, i = 0):\n",
    "        self.i = i\n",
    "\n",
    "class B(A):\n",
    "    def __init__(self, j = 0):\n",
    "        super().__init__()\n",
    "        self.j = j\n",
    "def main():\n",
    "    b = B()\n",
    "    print(b.i)\n",
    "    print(b.j)\n",
    "\n",
    "main()\n"
   ]
  },
  {
   "cell_type": "code",
   "execution_count": 12,
   "id": "b94d2616",
   "metadata": {},
   "outputs": [
    {
     "name": "stdout",
     "output_type": "stream",
     "text": [
      "i from A is 90\n"
     ]
    }
   ],
   "source": [
    "class A:\n",
    "    def __init__(self):\n",
    "        self.calcI(30)\n",
    "        print(\"i from A is\", self.i)\n",
    "\n",
    "    def calcI(self, i):\n",
    "        self.i = 2 * i;\n",
    "\n",
    "class B(A):\n",
    "    def __init__(self):\n",
    "        super().__init__()\n",
    "        \n",
    "    def calcI(self, i):\n",
    "        self.i = 3 * i;\n",
    "\n",
    "b = B()\n"
   ]
  },
  {
   "cell_type": "code",
   "execution_count": 13,
   "id": "39b8a3c9",
   "metadata": {},
   "outputs": [
    {
     "name": "stdout",
     "output_type": "stream",
     "text": [
      "1\n"
     ]
    }
   ],
   "source": [
    "class Demo:\n",
    "    count = 0\n",
    "\n",
    "    def __init__(self):\n",
    "        self.count += 1\n",
    "\n",
    "    def get_count(self):\n",
    "        return self.count\n",
    "\n",
    "demo = Demo()\n",
    "demo1 = Demo()\n",
    "\n",
    "print (demo.get_count())\n"
   ]
  },
  {
   "cell_type": "code",
   "execution_count": 14,
   "id": "c4d238a4",
   "metadata": {},
   "outputs": [
    {
     "name": "stdout",
     "output_type": "stream",
     "text": [
      "3\n"
     ]
    }
   ],
   "source": [
    "class Demo:\n",
    "    count = 0\n",
    "\n",
    "    def __init__(self):\n",
    "        Demo.count += 1\n",
    "\n",
    "    def get_count(self):\n",
    "        return Demo.count\n",
    "\n",
    "demo1 = Demo()\n",
    "demo2 = Demo()\n",
    "demo3 = Demo()\n",
    "print (demo1.get_count())\n"
   ]
  },
  {
   "cell_type": "code",
   "execution_count": 15,
   "id": "04cd0e3a",
   "metadata": {},
   "outputs": [
    {
     "name": "stdout",
     "output_type": "stream",
     "text": [
      "100 400\n"
     ]
    }
   ],
   "source": [
    "class P: \n",
    "   def __init__(self): \n",
    "      self.__x=100 \n",
    "      self.y=200 \n",
    "   def print(self): \n",
    "      print (self.__x, self.y)  \n",
    "class C(P): \n",
    "   def __init__(self): \n",
    "      super().__init__() \n",
    "      self.__x=300 \n",
    "      self.y=400  \n",
    "d = C() \n",
    "d.print()\n"
   ]
  },
  {
   "cell_type": "code",
   "execution_count": 16,
   "id": "b62872f9",
   "metadata": {},
   "outputs": [
    {
     "name": "stdout",
     "output_type": "stream",
     "text": [
      "1\n"
     ]
    }
   ],
   "source": [
    "class Demo:\n",
    "    def __init__(self):\n",
    "        self.a = 1\n",
    "        self.__b = 1\n",
    " \n",
    "    def display(self):\n",
    "        return self.__b\n",
    "obj = Demo()\n",
    "print(obj.a)\n"
   ]
  },
  {
   "cell_type": "code",
   "execution_count": 18,
   "id": "06e0faa2",
   "metadata": {},
   "outputs": [
    {
     "name": "stdout",
     "output_type": "stream",
     "text": [
      "1\n"
     ]
    }
   ],
   "source": [
    "class Demo:\n",
    "    def __init__(self):\n",
    "        self.a = 1\n",
    "        self.__b = 1\n",
    " \n",
    "    def display(self):\n",
    "        return self.__b\n",
    " \n",
    "obj = Demo()\n",
    "print(obj.display())\n"
   ]
  },
  {
   "cell_type": "code",
   "execution_count": 20,
   "id": "216ffa9b",
   "metadata": {},
   "outputs": [],
   "source": [
    "class Demo:\n",
    "    def __init__(self):\n",
    "        __a = 1\n",
    "        self.__b = 1\n",
    "        self.__c__ = 1\n",
    "        __d__= 1\n",
    "# here __a is the private feild"
   ]
  },
  {
   "cell_type": "code",
   "execution_count": 21,
   "id": "1fe446b7",
   "metadata": {},
   "outputs": [
    {
     "name": "stdout",
     "output_type": "stream",
     "text": [
      "1\n"
     ]
    }
   ],
   "source": [
    "class Demo:\n",
    "     def __init__(self):\n",
    "         self.a = 1\n",
    "         self.__b = 1\n",
    " \n",
    "     def get(self):\n",
    "         return self.__b\n",
    " \n",
    "obj = Demo()\n",
    "print(obj.get())\n"
   ]
  },
  {
   "cell_type": "code",
   "execution_count": 23,
   "id": "fb6c479d",
   "metadata": {},
   "outputs": [
    {
     "name": "stdout",
     "output_type": "stream",
     "text": [
      "45\n"
     ]
    }
   ],
   "source": [
    "class Demo:\n",
    "     def __init__(self):\n",
    "         self.a = 1\n",
    "         self.__b = 1\n",
    "     def get(self):\n",
    "         return self.__b\n",
    "obj = Demo()\n",
    "obj.a=45\n",
    "print(obj.a)"
   ]
  },
  {
   "cell_type": "markdown",
   "id": "a44773d4",
   "metadata": {},
   "source": [
    "### 29 Jan 2022"
   ]
  },
  {
   "cell_type": "markdown",
   "id": "44dd5605",
   "metadata": {},
   "source": [
    "### Stack"
   ]
  },
  {
   "cell_type": "code",
   "execution_count": null,
   "id": "b0f33ac6",
   "metadata": {},
   "outputs": [],
   "source": [
    "class Stack:\n",
    "    def __init__(self, maxsize):\n",
    "        self.maxsize= maxsize\n",
    "        self.top = -1\n",
    "        self.l = [None for x in range(maxsize)]\n",
    "    def isEmpty(self):\n",
    "        if self.top == -1:\n",
    "            return bool(1)\n",
    "        else:\n",
    "            return bool(0)\n",
    "        \n",
    "    def isFull(self):\n",
    "        if self.top == self.maxsize-1:\n",
    "            return bool(1)\n",
    "        else:\n",
    "            return bool(0)\n",
    "        \n",
    "    def "
   ]
  },
  {
   "cell_type": "markdown",
   "id": "e93f4f47",
   "metadata": {},
   "source": [
    "### Queue"
   ]
  },
  {
   "cell_type": "code",
   "execution_count": 37,
   "id": "ef56a067",
   "metadata": {},
   "outputs": [],
   "source": [
    "class Queue:\n",
    "    def __init__(self, maxsize):\n",
    "        self.maxsize = maxsize\n",
    "        self.front = self.rear = -1\n",
    "        self.q = [None for _ in range(maxsize)]\n",
    "        \n",
    "    def Full(self):\n",
    "        if ((self.rear == self.maxsize-1 and self.front == self.maxsize-1) or ((self.front) == 0 and (self.rear == self.maxsize-1))):\n",
    "            return bool(1)\n",
    "        else:\n",
    "            return bool(0)\n",
    "        \n",
    "    def Empty(self):\n",
    "        if self.rear == -1 and self.front == -1:\n",
    "            return bool(1)\n",
    "        else:\n",
    "            return bool(0)\n",
    "        \n",
    "    def Enqueue(self):\n",
    "        if self.Full:\n",
    "            print(\"Queue is full\")\n",
    "            \n",
    "            # when your queue is empty\n",
    "        elif self.rear == -1 and self.front == -1:\n",
    "            self.rear = self.front = 0\n",
    "            self.q[self.rear] = elem\n",
    "            \n",
    "            # when your queue is not empty\n",
    "        else:\n",
    "            self.rear += 1\n",
    "            self.q[self.rear] = elem\n",
    "            \n",
    "    def Dequeue(self):\n",
    "        if self.Empty():\n",
    "            print(\"Queue is Empty\")\n",
    "        #\n",
    "        \n",
    "        elif self.front == self.rear == self.maxsize-1:\n",
    "            self.q[self.front]=None\n",
    "            self.rear=self.front=-1\n",
    "            \n",
    "        # when deleting an element from front\n",
    "        else:\n",
    "            print(\"Deleted element is :\",self.q[self.front])\n",
    "            self.q[self.front] = None\n",
    "            self.front += 1\n",
    "            "
   ]
  },
  {
   "cell_type": "code",
   "execution_count": 35,
   "id": "32116b15",
   "metadata": {},
   "outputs": [],
   "source": [
    "qu = Queue(5)"
   ]
  },
  {
   "cell_type": "code",
   "execution_count": 38,
   "id": "8f021237",
   "metadata": {},
   "outputs": [
    {
     "ename": "AttributeError",
     "evalue": "'Queue' object has no attribute 'Enqueue'",
     "output_type": "error",
     "traceback": [
      "\u001b[1;31m---------------------------------------------------------------------------\u001b[0m",
      "\u001b[1;31mAttributeError\u001b[0m                            Traceback (most recent call last)",
      "\u001b[1;32m~\\AppData\\Local\\Temp/ipykernel_20172/1598597194.py\u001b[0m in \u001b[0;36m<module>\u001b[1;34m\u001b[0m\n\u001b[1;32m----> 1\u001b[1;33m \u001b[0mqu\u001b[0m\u001b[1;33m.\u001b[0m\u001b[0mEnqueue\u001b[0m\u001b[1;33m(\u001b[0m\u001b[1;36m3\u001b[0m\u001b[1;33m)\u001b[0m\u001b[1;33m\u001b[0m\u001b[1;33m\u001b[0m\u001b[0m\n\u001b[0m\u001b[0;32m      2\u001b[0m \u001b[0mqu\u001b[0m\u001b[1;33m.\u001b[0m\u001b[0mEnqueue\u001b[0m\u001b[1;33m(\u001b[0m\u001b[1;36m7\u001b[0m\u001b[1;33m)\u001b[0m\u001b[1;33m\u001b[0m\u001b[1;33m\u001b[0m\u001b[0m\n\u001b[0;32m      3\u001b[0m \u001b[0mqu\u001b[0m\u001b[1;33m.\u001b[0m\u001b[0mEnqueue\u001b[0m\u001b[1;33m(\u001b[0m\u001b[1;36m6\u001b[0m\u001b[1;33m)\u001b[0m\u001b[1;33m\u001b[0m\u001b[1;33m\u001b[0m\u001b[0m\n",
      "\u001b[1;31mAttributeError\u001b[0m: 'Queue' object has no attribute 'Enqueue'"
     ]
    }
   ],
   "source": [
    "qu.Enqueue(3)\n",
    "qu.Enqueue(7)\n",
    "qu.Enqueue(6)"
   ]
  },
  {
   "cell_type": "code",
   "execution_count": 11,
   "id": "4c92e78f",
   "metadata": {},
   "outputs": [],
   "source": [
    "class Queue(object):\n",
    "    def __init__(self, size):\n",
    "        self.queue = []\n",
    "        self.size = size\n",
    "\n",
    "    def __str__(self):\n",
    "        myString = ' '.join(str(i) for i in self.queue)\n",
    "        return myString\n",
    "\n",
    "    def enqueue(self, item):\n",
    "        '''This function adds an item to the rear end of the queue '''\n",
    "        if(self.isFull() != True):\n",
    "            self.queue.insert(0, item)\n",
    "        else:\n",
    "            print('Queue is Full!')\n",
    "\n",
    "    def dequeue(self):\n",
    "        ''' This function removes an item from the front end of the queue '''\n",
    "        if(self.isEmpty() != True):\n",
    "            return self.queue.pop()\n",
    "        else:\n",
    "            print('Queue is Empty!')\n",
    "\n",
    "    def isEmpty(self):\n",
    "        ''' This function checks if the queue is empty '''\n",
    "        return self.queue == []\n",
    "\n",
    "    def isFull(self):\n",
    "        ''' This function checks if the queue is full '''\n",
    "        return len(self.queue) == self.size\n",
    "\n",
    "    def peek(self):\n",
    "        ''' This function helps to see the first element at the fron end of the queue '''\n",
    "        if(self.isEmpty() != True):\n",
    "            return self.queue[-1]\n",
    "        else:\n",
    "            print('Queue is Empty!')\n",
    "            \n",
    "\n",
    "q=Queue(n)"
   ]
  },
  {
   "cell_type": "code",
   "execution_count": 33,
   "id": "9dc0f043",
   "metadata": {},
   "outputs": [
    {
     "name": "stdout",
     "output_type": "stream",
     "text": [
      "31\n"
     ]
    }
   ],
   "source": [
    "def fun(n):\n",
    "    q=Queue(n)\n",
    "    if(n==0):\n",
    "        return 1\n",
    "    else:\n",
    "        for i in range(1,n+1):\n",
    "            q.enqueue(i*i)\n",
    "        temp=1\n",
    "        while(not q.isEmpty()):\n",
    "            temp+=q.dequeue()\n",
    "        return temp\n",
    "n=4\n",
    "print(fun(n))"
   ]
  },
  {
   "cell_type": "markdown",
   "id": "4d5040e6",
   "metadata": {},
   "source": [
    "### Linked List"
   ]
  },
  {
   "cell_type": "code",
   "execution_count": 16,
   "id": "c227fc03",
   "metadata": {},
   "outputs": [
    {
     "name": "stdout",
     "output_type": "stream",
     "text": [
      "[13, 14, 15, 20]\n",
      "0\n"
     ]
    }
   ],
   "source": [
    "class Node:\n",
    "    def __init__(self, data = None, next_node = None):\n",
    "        self.data = data\n",
    "        self.nextNode = next_node\n",
    "\n",
    "    def get_data(self):\n",
    "        return self.data\n",
    "\n",
    "    def set_data(self, data):\n",
    "        self.data = data\n",
    "\n",
    "    def get_nextNode(self):\n",
    "        return self.nextNode\n",
    "\n",
    "    def set_nextNode(self, nextNode):\n",
    "        self.nextNode = nextNode\n",
    "\n",
    "\n",
    "class LinkedList:\n",
    "    def __init__(self, head = None):\n",
    "        self.head = head\n",
    "\n",
    "\n",
    "    def add_Node(self, data):\n",
    "        # if empty\n",
    "        if self.head == None:\n",
    "            self.head = Node(data)\n",
    "\n",
    "\n",
    "        # not empty\n",
    "        else:\n",
    "            curr_Node = self.head\n",
    "            \n",
    "            # if node added is at the start\n",
    "            if data < curr_Node.get_data():\n",
    "                self.head = Node(data, curr_Node)\n",
    "                \n",
    "            # not at start\n",
    "            else:\n",
    "                while data > curr_Node.get_data() and curr_Node.get_nextNode() != None:\n",
    "                    prev_Node = curr_Node\n",
    "                    curr_Node = curr_Node.get_nextNode()\n",
    "\n",
    "                # if node added is at the middle\n",
    "                if data < curr_Node.get_data():\n",
    "                    prev_Node.set_nextNode(Node(data, curr_Node))\n",
    "                \n",
    "\n",
    "                # if node added is at the last\n",
    "                elif data > curr_Node.get_data() and curr_Node.get_nextNode() == None:\n",
    "                    curr_Node.set_nextNode(Node(data))\n",
    "\n",
    "\n",
    "\n",
    "    def search(self, data):\n",
    "        curr_Node = self.head\n",
    "        while curr_Node != None:\n",
    "            if data == curr_Node.get_data():\n",
    "                return True\n",
    "\n",
    "            else:\n",
    "                curr_Node = curr_Node.get_nextNode()\n",
    "\n",
    "        return False\n",
    "\n",
    "\n",
    "    def delete_Node(self, data):\n",
    "        if self.search(data):\n",
    "            # if data is found\n",
    "\n",
    "            curr_Node = self.head\n",
    "            #if node to be deleted is the first node\n",
    "            if curr_Node.get_data() == data:\n",
    "                self.head = curr_Node.get_nextNode()\n",
    "\n",
    "            else:\n",
    "                while curr_Node.get_data() != data:\n",
    "                    prev_Node = curr_Node\n",
    "                    curr_Node = curr_Node.get_nextNode()\n",
    "                    \n",
    "                #node to be deleted is middle\n",
    "                if curr_Node.get_nextNode() != None:\n",
    "                    prev_Node.set_nextNode(curr_Node.get_nextNode())\n",
    "\n",
    "                # node to be deleted is at the end\n",
    "                elif curr_Node.get_nextNode() == None:\n",
    "                    prev_Node.set_nextNode(None)\n",
    "\n",
    "        else:\n",
    "            return \"Not found.\"\n",
    "\n",
    "    def return_as_lst(self):\n",
    "        lst = []\n",
    "        curr_Node = self.head\n",
    "        while curr_Node != None:\n",
    "            lst.append(curr_Node.get_data())\n",
    "            curr_Node = curr_Node.get_nextNode()\n",
    "\n",
    "        return lst\n",
    "\n",
    "    def size(self):\n",
    "        curr_Node = self.head\n",
    "        count = 0\n",
    "        while curr_Node:\n",
    "            count += 1\n",
    "            curr_Node = curr_Node.get_nextNode()\n",
    "        return count\n",
    "\n",
    "\n",
    "test1 = LinkedList()\n",
    "test2 = LinkedList()\n",
    "test1.add_Node(20)\n",
    "test1.add_Node(15)\n",
    "test1.add_Node(13)\n",
    "test1.add_Node(14)\n",
    "test1.delete_Node(17)\n",
    "print(test1.return_as_lst())\n",
    "print(test2.size())"
   ]
  },
  {
   "cell_type": "code",
   "execution_count": 19,
   "id": "1a5c4a24",
   "metadata": {},
   "outputs": [],
   "source": [
    "def fun(head,n):\n",
    "    temp=head\n",
    "    if(head==None):\n",
    "        return\n",
    "    else:\n",
    "        i=1\n",
    "        while(i<n):\n",
    "            val=temp.get_data()\n",
    "            temp=temp.get_next()\n",
    "            head.set_data(val)\n",
    "            i+=1\n",
    "        temp1=head.get_data()\n",
    "        temp.set_data(temp1)\n",
    "# 1>4>6>7>9 i/p\n",
    "# 7>4>6>7>7 o/p"
   ]
  },
  {
   "cell_type": "code",
   "execution_count": 43,
   "id": "5b81dff7",
   "metadata": {},
   "outputs": [
    {
     "name": "stdout",
     "output_type": "stream",
     "text": [
      "[2, 3, 18, 6, 9, 10, 25]\n"
     ]
    }
   ],
   "source": [
    "lst=[9,6,18,3,10,25,2]\n",
    "for i in range(len(lst)):\n",
    "    for j in range(i,len(lst)):\n",
    "        if(lst[i]>lst[j]):\n",
    "            lst[i],lst[j]=lst[j],lst[i]\n",
    "            if(i==2):\n",
    "                break\n",
    "        if(i==2):\n",
    "            break\n",
    "print(lst)"
   ]
  },
  {
   "cell_type": "code",
   "execution_count": 1,
   "id": "68cf8f74",
   "metadata": {},
   "outputs": [
    {
     "name": "stdout",
     "output_type": "stream",
     "text": [
      "Given array is\n",
      "43 89 15 29 7 25 0 99 \n",
      "\n",
      "Sorted array is\n",
      "0 7 15 25 29 43 89 99 "
     ]
    }
   ],
   "source": [
    "def merge(arr, l, m, r):\n",
    "    n1 = m - l + 1\n",
    "    n2 = r - m\n",
    " \n",
    "    # create temp arrays\n",
    "    L = [0] * (n1)\n",
    "    R = [0] * (n2)\n",
    " \n",
    "    # Copy data to temp arrays L[] and R[]\n",
    "    for i in range(0, n1):\n",
    "        L[i] = arr[l + i]\n",
    " \n",
    "    for j in range(0, n2):\n",
    "        R[j] = arr[m + 1 + j]\n",
    " \n",
    "    # Merge the temp arrays back into arr[l..r]\n",
    "    i = 0     # Initial index of first subarray\n",
    "    j = 0     # Initial index of second subarray\n",
    "    k = l     # Initial index of merged subarray\n",
    " \n",
    "    while i < n1 and j < n2:\n",
    "        if L[i] <= R[j]:\n",
    "            arr[k] = L[i]\n",
    "            i += 1\n",
    "        else:\n",
    "            arr[k] = R[j]\n",
    "            j += 1\n",
    "        k += 1\n",
    " \n",
    "    # Copy the remaining elements of L[], if there\n",
    "    # are any\n",
    "    while i < n1:\n",
    "        arr[k] = L[i]\n",
    "        i += 1\n",
    "        k += 1\n",
    " \n",
    "    # Copy the remaining elements of R[], if there\n",
    "    # are any\n",
    "    while j < n2:\n",
    "        arr[k] = R[j]\n",
    "        j += 1\n",
    "        k += 1\n",
    " \n",
    "# l is for left index and r is right index of the\n",
    "# sub-array of arr to be sorted\n",
    " \n",
    " \n",
    "def mergeSort(arr, l, r):\n",
    "    if l < r:\n",
    " \n",
    "        # Same as (l+r)//2, but avoids overflow for\n",
    "        # large l and h\n",
    "        m = l+(r-l)//2\n",
    "\n",
    "        c=0\n",
    "        # Sort first and second halves\n",
    "        mergeSort(arr, l, m)\n",
    "        mergeSort(arr, m+1, r)\n",
    "        merge(arr, l, m, r)\n",
    " \n",
    "# Driver code to test above\n",
    "arr = [43,89,15,29,7,25,0,99]\n",
    "n = len(arr)\n",
    "print(\"Given array is\")\n",
    "for i in range(n):\n",
    "    print(\"%d\" % arr[i],end=\" \")\n",
    " \n",
    "mergeSort(arr, 0, n-1)\n",
    "print(\"\\n\\nSorted array is\")\n",
    "for i in range(n):\n",
    "    print(\"%d\" % arr[i],end=\" \")"
   ]
  },
  {
   "cell_type": "markdown",
   "id": "a2abc7d2",
   "metadata": {},
   "source": [
    "### 2 Feb 2022"
   ]
  },
  {
   "cell_type": "code",
   "execution_count": 18,
   "id": "18307952",
   "metadata": {},
   "outputs": [
    {
     "name": "stdout",
     "output_type": "stream",
     "text": [
      "2\n",
      "2\n",
      "2\n",
      "2\n",
      "2\n",
      "8\n"
     ]
    }
   ],
   "source": [
    "def f(n):\n",
    "    global ff,c\n",
    "    if(n<=len(ff)-1):\n",
    "        return ff[n]\n",
    "    else:\n",
    "        if(n==3):\n",
    "            c=c+1\n",
    "        ff.append(f(n-1)+f(n-2))\n",
    "#         if((n+1==3 or n+2==3) or (n==3)):\n",
    "#             c=c+1\n",
    "        print(c)\n",
    "        return ff[n]\n",
    "ff=[]\n",
    "ff.append(0)\n",
    "ff.append(1)\n",
    "c=1\n",
    "n=6\n",
    "print(f(n))"
   ]
  },
  {
   "cell_type": "markdown",
   "id": "3dc803eb",
   "metadata": {},
   "source": [
    "## Decorator"
   ]
  },
  {
   "cell_type": "markdown",
   "id": "49635436",
   "metadata": {},
   "source": [
    "- To call a object (callable object)\n",
    "- it can be a function or class\n",
    "- function and class decorator are two types"
   ]
  },
  {
   "cell_type": "code",
   "execution_count": 35,
   "id": "047b9979",
   "metadata": {},
   "outputs": [
    {
     "data": {
      "text/plain": [
       "6"
      ]
     },
     "execution_count": 35,
     "metadata": {},
     "output_type": "execute_result"
    }
   ],
   "source": [
    "def sum(x):\n",
    "    return x+1\n",
    "\n",
    "add = sum\n",
    "add(5)"
   ]
  },
  {
   "cell_type": "code",
   "execution_count": 22,
   "id": "edcc86bd",
   "metadata": {},
   "outputs": [
    {
     "data": {
      "text/plain": [
       "6"
      ]
     },
     "execution_count": 22,
     "metadata": {},
     "output_type": "execute_result"
    }
   ],
   "source": [
    "sum(5)"
   ]
  },
  {
   "cell_type": "code",
   "execution_count": 33,
   "id": "eabba857",
   "metadata": {},
   "outputs": [],
   "source": [
    "del (sum)"
   ]
  },
  {
   "cell_type": "code",
   "execution_count": 36,
   "id": "4e02aaf6",
   "metadata": {},
   "outputs": [
    {
     "data": {
      "text/plain": [
       "6"
      ]
     },
     "execution_count": 36,
     "metadata": {},
     "output_type": "execute_result"
    }
   ],
   "source": [
    "add(5)"
   ]
  },
  {
   "cell_type": "code",
   "execution_count": 37,
   "id": "76c3d09b",
   "metadata": {},
   "outputs": [
    {
     "name": "stdout",
     "output_type": "stream",
     "text": [
      "GOOD MORNING! Mr. X\n",
      "How are you?\n",
      "Welcome to python session\n"
     ]
    }
   ],
   "source": [
    "def welcome():\n",
    "    def greet():\n",
    "        print(\"GOOD MORNING! Mr. X\")\n",
    "        print(\"How are you?\")\n",
    "    greet()\n",
    "    print(\"Welcome to python session\")\n",
    "welcome()"
   ]
  },
  {
   "cell_type": "code",
   "execution_count": 38,
   "id": "90ef7075",
   "metadata": {},
   "outputs": [
    {
     "name": "stdout",
     "output_type": "stream",
     "text": [
      "GOOD MORNING! Mr. X\n",
      "Welcome to python session\n"
     ]
    }
   ],
   "source": [
    "def welcome():\n",
    "    def greet():\n",
    "        return (\"GOOD MORNING! Mr. X\")\n",
    "    print(greet())\n",
    "    return (\"Welcome to python session\")\n",
    "print(welcome())"
   ]
  },
  {
   "cell_type": "code",
   "execution_count": 39,
   "id": "3f0e3949",
   "metadata": {},
   "outputs": [
    {
     "name": "stdout",
     "output_type": "stream",
     "text": [
      "120\n"
     ]
    }
   ],
   "source": [
    "def fact(n):\n",
    "    if n==0:\n",
    "        return 1\n",
    "    else:\n",
    "        return n*fact(n-1)\n",
    "x=fact(5)\n",
    "print(x)"
   ]
  },
  {
   "cell_type": "markdown",
   "id": "acf81591",
   "metadata": {},
   "source": [
    "- It will throw error if negative value is given"
   ]
  },
  {
   "cell_type": "code",
   "execution_count": 41,
   "id": "afe18416",
   "metadata": {},
   "outputs": [
    {
     "name": "stdout",
     "output_type": "stream",
     "text": [
      "120\n"
     ]
    }
   ],
   "source": [
    "def fact(n):\n",
    "    if(type(n)==int and n>=0):\n",
    "        if(n==0):\n",
    "            return 1\n",
    "        else:\n",
    "            return n*fact(n-1)\n",
    "    else:\n",
    "        return TypeError(\"\\n has to be a postive integer or zero\")\n",
    "x=fact(5)\n",
    "print(x)"
   ]
  },
  {
   "cell_type": "code",
   "execution_count": 47,
   "id": "2fbf9adf",
   "metadata": {},
   "outputs": [
    {
     "name": "stdout",
     "output_type": "stream",
     "text": [
      "n has to be positive integer or zero\n"
     ]
    }
   ],
   "source": [
    "def fact(n):\n",
    "    def inner_fact(n):\n",
    "        if n==0:\n",
    "            return 1\n",
    "        else:\n",
    "            return n*inner_fact(n-1)\n",
    "    if(type(n)==int and n>=0):\n",
    "        return inner_fact(n)\n",
    "    else:\n",
    "        return TypeError(\"n has to be positive integer or zero\")\n",
    "x=fact(-5)\n",
    "print(x)"
   ]
  },
  {
   "cell_type": "code",
   "execution_count": 49,
   "id": "19ddc1e1",
   "metadata": {},
   "outputs": [
    {
     "name": "stdout",
     "output_type": "stream",
     "text": [
      "Good Morning! Mr. X\n",
      "Welcome to python session\n",
      "the first order function is welcome\n"
     ]
    }
   ],
   "source": [
    "def welcome():\n",
    "    print(\"Welcome to python session\")\n",
    "    \n",
    "def greet(func):\n",
    "    print(\"Good Morning! Mr. X\")\n",
    "    func()\n",
    "    print(\"the first order function is \"+  func.__name__)\n",
    "greet(welcome)"
   ]
  },
  {
   "cell_type": "code",
   "execution_count": 51,
   "id": "eccf5107",
   "metadata": {},
   "outputs": [
    {
     "name": "stdout",
     "output_type": "stream",
     "text": [
      "The function sin was passes to foo\n",
      "2.3492405557375347\n",
      "The function cos was passes to foo\n",
      "-0.6769881462259364\n"
     ]
    }
   ],
   "source": [
    "import math\n",
    "def foo(func):\n",
    "    print(\"The function \"+func.__name__+\" was passes to foo\")\n",
    "    res = 0\n",
    "    for x in [1,2,2.5]:\n",
    "        res += func(x)\n",
    "    return res\n",
    "print(foo(math.sin))\n",
    "print(foo(math.cos))"
   ]
  },
  {
   "cell_type": "code",
   "execution_count": 54,
   "id": "b06fde23",
   "metadata": {},
   "outputs": [
    {
     "name": "stdout",
     "output_type": "stream",
     "text": [
      "5\n",
      "7\n"
     ]
    }
   ],
   "source": [
    "def f(x):\n",
    "    def g(y):\n",
    "        return y+x+3\n",
    "    return g\n",
    "nf1=f(1)\n",
    "nf2=f(3)\n",
    "print(nf1(1)) # f(1)(1)\n",
    "print(nf2(1)) # f(3)(1)"
   ]
  },
  {
   "cell_type": "code",
   "execution_count": 57,
   "id": "f739f9a0",
   "metadata": {},
   "outputs": [
    {
     "name": "stdout",
     "output_type": "stream",
     "text": [
      "Gutten Morgen\t!\n"
     ]
    }
   ],
   "source": [
    "def greet(lang):\n",
    "    def customer_greet(name):\n",
    "        if lang=='de': #german\n",
    "            phrase = 'Gutten Morgen'\n",
    "        elif lang=='fr': #french\n",
    "            phrase='Bonjour'\n",
    "        elif lang=='it': #italian\n",
    "            phrase='Bongiorno'\n",
    "        elif lang=='tr': #turkish\n",
    "            phrase='Gunaydin'\n",
    "        else:\n",
    "            phrase='Hi'\n",
    "        return phrase+'\\t'+'!'\n",
    "    return customer_greet\n",
    "ab = greet('de')\n",
    "print(ab('Aashutosh')) #greet('de')('Aashutosh')"
   ]
  },
  {
   "cell_type": "code",
   "execution_count": 62,
   "id": "ad3c9df8",
   "metadata": {},
   "outputs": [
    {
     "name": "stdout",
     "output_type": "stream",
     "text": [
      "-2 1 -7\n",
      "-1 -2 -2\n",
      "0 -1 1\n",
      "1 4 2\n"
     ]
    }
   ],
   "source": [
    "# p(x) = a*x**2 +b*x +c\n",
    "def polynomial_eq(a,b,c):\n",
    "    def poly_evaluate(x):\n",
    "        return a*x**2 +b*x +c\n",
    "    return poly_evaluate\n",
    "e1 = polynomial_eq(2,3,-1)\n",
    "e2 = polynomial_eq(-1,2,1)\n",
    "for x in range(-2,2,1):\n",
    "    print(x, e1(x),e2(x)) #polynomial_eqn(2,3,-1)(-2)"
   ]
  },
  {
   "cell_type": "code",
   "execution_count": 23,
   "id": "eee80acb",
   "metadata": {},
   "outputs": [
    {
     "name": "stdout",
     "output_type": "stream",
     "text": [
      "[1, 1, 1, 2, 2, 2, 2, 3, 3, 4, 7]\n"
     ]
    }
   ],
   "source": [
    "def fun4(array1,max_val):\n",
    "    m=max_val+1\n",
    "    count=[0]*m\n",
    "    for a in array1:\n",
    "        count[a]+=1\n",
    "    i=0\n",
    "    for a in range(m):\n",
    "        for c in range(count[a]):\n",
    "            array1[i]=a\n",
    "            i+=1\n",
    "    return array1\n",
    "print(fun4([1,2,7,3,2,1,4,2,3,2,1],7))"
   ]
  },
  {
   "cell_type": "markdown",
   "id": "0896f351",
   "metadata": {},
   "source": [
    "### TEST 4 FEB, 2022"
   ]
  },
  {
   "cell_type": "code",
   "execution_count": 25,
   "id": "1f8d7d11",
   "metadata": {},
   "outputs": [
    {
     "name": "stdout",
     "output_type": "stream",
     "text": [
      "Grass type pokemon is Bulbasaur\n",
      "Pokemon name is Charizard and type is Fire\n"
     ]
    }
   ],
   "source": [
    "class Pokemon():\n",
    "    def __init__(self, name, type):\n",
    "        self.name = name\n",
    "        self.type = type\n",
    "    def stringPokemon(self):\n",
    "        print(f\"Pokemon name is {self.name} and type is {self.type}\")\n",
    "    \n",
    "## no __init__() in GrassType then inherit automatically the aboveone\n",
    "class GrassType(Pokemon):\n",
    "    def stringPokemon(self):\n",
    "        print(f\"Grass type pokemon is {self.name}\")\n",
    "\n",
    "poke1 = GrassType('Bulbasaur','Grass')\n",
    "poke1.stringPokemon\n",
    "poke1.stringPokemon()\n",
    "poke2 = Pokemon('Charizard','Fire')\n",
    "poke2.stringPokemon\n",
    "poke2.stringPokemon()"
   ]
  },
  {
   "cell_type": "code",
   "execution_count": 49,
   "id": "a4a75dd4",
   "metadata": {},
   "outputs": [
    {
     "name": "stdout",
     "output_type": "stream",
     "text": [
      "{'test': 7}\n"
     ]
    }
   ],
   "source": [
    "class demo(dict):\n",
    "       def __test__(self,key):     \n",
    "                return [] \n",
    "\n",
    "a = demo() \n",
    "a['test'] = 7\n",
    "print(a)"
   ]
  },
  {
   "cell_type": "code",
   "execution_count": 24,
   "id": "4248103e",
   "metadata": {},
   "outputs": [
    {
     "name": "stdout",
     "output_type": "stream",
     "text": [
      "20000\n"
     ]
    }
   ],
   "source": [
    "class Table:\n",
    "    def __init__(self):\n",
    "        self.no_of_legs = 4\n",
    "        self.__glass_top = None\n",
    "        self.__wooden_top = None\n",
    "    def assign_data(self,glass_top,wooden_top):\n",
    "        self.__glass_top = glass_top\n",
    "        self.__wooden_top = wooden_top\n",
    "    def identify_rate(self,glass_top,wooden_top):\n",
    "        self.assign_data(glass_top, wooden_top)\n",
    "        if(self.__glass_top == True):\n",
    "            rate = 20000\n",
    "        elif(self.__wooden_top==True):\n",
    "            rate = 30000\n",
    "        else:\n",
    "            rate = 0\n",
    "        return rate\n",
    "dining_table = Table()\n",
    "rate = dining_table.identify_rate(True,False)\n",
    "print(rate)"
   ]
  },
  {
   "cell_type": "code",
   "execution_count": 29,
   "id": "f2053034",
   "metadata": {},
   "outputs": [
    {
     "name": "stdout",
     "output_type": "stream",
     "text": [
      "['', 2, '', 4, '', 6, '', 8, '', 10, '', 12, '', 14, '', 16, '', 18, '', 20, '', 22, '', 24, '', 26, '', 28, '', 30, '', 32, '', 34, '', 36, '', 38, '', 40, '', 42, '', 44, '', 46, '', 48, '', 50, '', 52, '', 54, '', 56, '', 58, '', 60, '', 62, '', 64, '', 66, '', 68, '', 70, '', 72, '', 74, '', 76, '', 78, '', 80, '', 82, '', 84, '', 86, '', 88, '', 90, '', 92, '', 94, '', 96, '', 98, '', 100] "
     ]
    }
   ],
   "source": [
    "ele=[i if int(i*0.5)==i*0.5 else '' for i in range(1,101)]\n",
    "print(ele,end=\" \")"
   ]
  },
  {
   "cell_type": "code",
   "execution_count": 42,
   "id": "ad413443",
   "metadata": {},
   "outputs": [],
   "source": [
    "ele=[i if i%2==0 else 'odd' for i in range(1,101)]"
   ]
  },
  {
   "cell_type": "code",
   "execution_count": 43,
   "id": "0da6a754",
   "metadata": {},
   "outputs": [
    {
     "name": "stdout",
     "output_type": "stream",
     "text": [
      "['odd', 2, 'odd', 4, 'odd', 6, 'odd', 8, 'odd', 10, 'odd', 12, 'odd', 14, 'odd', 16, 'odd', 18, 'odd', 20, 'odd', 22, 'odd', 24, 'odd', 26, 'odd', 28, 'odd', 30, 'odd', 32, 'odd', 34, 'odd', 36, 'odd', 38, 'odd', 40, 'odd', 42, 'odd', 44, 'odd', 46, 'odd', 48, 'odd', 50, 'odd', 52, 'odd', 54, 'odd', 56, 'odd', 58, 'odd', 60, 'odd', 62, 'odd', 64, 'odd', 66, 'odd', 68, 'odd', 70, 'odd', 72, 'odd', 74, 'odd', 76, 'odd', 78, 'odd', 80, 'odd', 82, 'odd', 84, 'odd', 86, 'odd', 88, 'odd', 90, 'odd', 92, 'odd', 94, 'odd', 96, 'odd', 98, 'odd', 100] "
     ]
    }
   ],
   "source": [
    "print(ele,end=\" \")"
   ]
  },
  {
   "cell_type": "code",
   "execution_count": 39,
   "id": "6b4d7c4b",
   "metadata": {},
   "outputs": [],
   "source": [
    "ele=[i for i in range(1,101) if i%2==0]"
   ]
  },
  {
   "cell_type": "code",
   "execution_count": 55,
   "id": "3e054722",
   "metadata": {},
   "outputs": [
    {
     "name": "stdout",
     "output_type": "stream",
     "text": [
      "{(1, 2, 4): 5, (4, 2, 1): 2, (1, 2): 6}\n",
      "13\n",
      "16\n"
     ]
    }
   ],
   "source": [
    "count={} \n",
    "count[(1,2,4)] = 5 \n",
    "count[(4,2,1)] = 7 \n",
    "count[(1,2)] = 6 \n",
    "count[(4,2,1)] = 2 \n",
    "tot = 0 \n",
    "for i in count:\n",
    "    tot=tot+count[i]\n",
    "print(count)\n",
    "print(tot)\n",
    "print(len(count)+tot)"
   ]
  },
  {
   "cell_type": "code",
   "execution_count": null,
   "id": "33913805",
   "metadata": {},
   "outputs": [],
   "source": []
  }
 ],
 "metadata": {
  "kernelspec": {
   "display_name": "Python 3 (ipykernel)",
   "language": "python",
   "name": "python3"
  },
  "language_info": {
   "codemirror_mode": {
    "name": "ipython",
    "version": 3
   },
   "file_extension": ".py",
   "mimetype": "text/x-python",
   "name": "python",
   "nbconvert_exporter": "python",
   "pygments_lexer": "ipython3",
   "version": "3.9.7"
  }
 },
 "nbformat": 4,
 "nbformat_minor": 5
}
